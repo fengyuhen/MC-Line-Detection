{
 "cells": [
  {
   "cell_type": "code",
   "execution_count": 1,
   "metadata": {
    "collapsed": false
   },
   "outputs": [
    {
     "data": {
      "text/html": [
       "<style>.container {width:100% !important;}<style>"
      ],
      "text/plain": [
       "<IPython.core.display.HTML object>"
      ]
     },
     "metadata": {},
     "output_type": "display_data"
    }
   ],
   "source": [
    "from IPython.core.display import display, HTML\n",
    "display(HTML(\"<style>.container {width:100% !important;}<style>\"))"
   ]
  },
  {
   "cell_type": "markdown",
   "metadata": {},
   "source": [
    "# fit three kinds of line\n",
    "- 1：一条直线（一次函数拟合并延长）\n",
    "- 2：一条曲线（按X轴取像素中心拟合）\n",
    "- 3：Y型线&顶部粘住的两条线（分两条按X轴取像素中心拟合"
   ]
  },
  {
   "cell_type": "code",
   "execution_count": 22,
   "metadata": {
    "collapsed": false
   },
   "outputs": [],
   "source": [
    "import numpy as np\n",
    "import matplotlib.pyplot as plt\n",
    "import datetime\n",
    "import cv2\n",
    "import math\n",
    "import tensorflow as tf\n",
    "import keras.backend as K\n",
    "from keras.models import load_model, Sequential, model_from_json\n",
    "import random\n",
    "from sklearn.cluster import DBSCAN\n",
    "import os\n",
    "\n",
    "from keras import layers\n",
    "from keras.layers import *\n",
    "from keras.layers.pooling import MaxPool2D, AveragePooling2D\n",
    "from keras.optimizers import Adam\n",
    "\n",
    "os.environ[\"CUDA_DEVICE_ORDER\"] = \"PCI_BUS_ID\"\n",
    "os.environ[\"CUDA_VISIBLE_DEVICES\"] = \"0\"\n",
    "\n",
    "TIMEFORMAT = \"%m-%d-%H:%M:%S\"\n",
    "GPU_MEMORY_FRACTION = 1.0\n",
    "DATA_SHAPE = 224\n",
    "\n",
    "def config_keras_backend(fraction):\n",
    "    config = tf.ConfigProto()\n",
    "    config.gpu_options.allow_growth = True\n",
    "    config.gpu_options.per_process_gpu_memory_fraction = fraction\n",
    "    sess = tf.Session(config=config)\n",
    "    K.set_session(sess)\n",
    "\n",
    "config_keras_backend(GPU_MEMORY_FRACTION)"
   ]
  },
  {
   "cell_type": "markdown",
   "metadata": {},
   "source": [
    "## begin"
   ]
  },
  {
   "cell_type": "code",
   "execution_count": 3,
   "metadata": {
    "collapsed": true
   },
   "outputs": [],
   "source": [
    "def line2img(line, shape):\n",
    "    x_list = line[:, 0]\n",
    "    y_list = line[:, 1]\n",
    "    x_range = x_list.max() - x_list.min() + 1\n",
    "    y_range = y_list.max() - y_list.min() + 1\n",
    "    x_list = x_list - x_list.min()\n",
    "    y_list = y_list - y_list.min()\n",
    "    pic = np.zeros((x_range, y_range), np.uint8)\n",
    "    for x, y in zip(x_list, y_list):\n",
    "        pic[x, y] = 255\n",
    "    img = cv2.resize(pic ,(shape, shape))\n",
    "    return img"
   ]
  },
  {
   "cell_type": "code",
   "execution_count": 40,
   "metadata": {
    "collapsed": false
   },
   "outputs": [],
   "source": [
    "# def cluster_result_classifier(cluster, model):\n",
    "#     result = []\n",
    "#     # print cluster.shape[0]\n",
    "#     for i in range(cluster.shape[0]):\n",
    "#         img = line2img(cluster[i], 32)\n",
    "#         plt.imshow(img)\n",
    "#         img = img.reshape(1, 32, 32, 1)\n",
    "#         temp = model.predict(img)\n",
    "#         classification_result = temp.argmax()\n",
    "#         print classification_result\n",
    "#         result.append(classification_result)\n",
    "#     return result"
   ]
  },
  {
   "cell_type": "code",
   "execution_count": 97,
   "metadata": {
    "collapsed": true
   },
   "outputs": [],
   "source": [
    "def format_data(data):\n",
    "    for index in range(data.shape[0]):\n",
    "        for i in range(data.shape[1]):\n",
    "            for j in range(data.shape[2]):\n",
    "                if data[index][i][j] != 0:\n",
    "                    data[index][i][j] = 255\n",
    "    return data"
   ]
  },
  {
   "cell_type": "code",
   "execution_count": 128,
   "metadata": {
    "collapsed": false
   },
   "outputs": [],
   "source": [
    "def cluster_result_classifier(cluster, model):\n",
    "    result = []\n",
    "    img = line2img(cluster, 32)\n",
    "    img = format_data(img.reshape(1, 32, 32))\n",
    "    plt.imshow(img[0], cmap='gray')\n",
    "    plt.show()\n",
    "    img = img.reshape(1, 32, 32, 1)\n",
    "    temp = model.predict(img)\n",
    "    classification_result = temp.argmax()\n",
    "    print classification_result\n",
    "    result.append(classification_result)\n",
    "    return result"
   ]
  },
  {
   "cell_type": "code",
   "execution_count": 208,
   "metadata": {
    "collapsed": false
   },
   "outputs": [],
   "source": [
    "val_image = np.load(\"/home/mc16/result/val_cluster_06-18-05:50:42.npy\")\n",
    "model = load_model('/home/mc16/zhy/Classification_Model/classifier_4.h5')"
   ]
  },
  {
   "cell_type": "code",
   "execution_count": 242,
   "metadata": {
    "collapsed": false
   },
   "outputs": [
    {
     "name": "stdout",
     "output_type": "stream",
     "text": [
      "387\n"
     ]
    },
    {
     "data": {
      "image/png": "[encoded data removed]",
      "text/plain": [
       "<Figure size 432x288 with 1 Axes>"
      ]
     },
     "metadata": {},
     "output_type": "display_data"
    },
    {
     "name": "stdout",
     "output_type": "stream",
     "text": [
      "0\n"
     ]
    },
    {
     "data": {
      "text/plain": [
       "[0]"
      ]
     },
     "execution_count": 242,
     "metadata": {},
     "output_type": "execute_result"
    }
   ],
   "source": [
    "index = random.randint(0, len(val_image))\n",
    "print index\n",
    "cluster = val_image[index][0][0]\n",
    "cluster_result_classifier(cluster, model)"
   ]
  },
  {
   "cell_type": "code",
   "execution_count": null,
   "metadata": {
    "collapsed": true
   },
   "outputs": [],
   "source": []
  }
 ],
 "metadata": {
  "anaconda-cloud": {},
  "kernelspec": {
   "display_name": "Python [default]",
   "language": "python",
   "name": "python2"
  },
  "language_info": {
   "codemirror_mode": {
    "name": "ipython",
    "version": 2
   },
   "file_extension": ".py",
   "mimetype": "text/x-python",
   "name": "python",
   "nbconvert_exporter": "python",
   "pygments_lexer": "ipython2",
   "version": "2.7.12"
  }
 },
 "nbformat": 4,
 "nbformat_minor": 1
}
