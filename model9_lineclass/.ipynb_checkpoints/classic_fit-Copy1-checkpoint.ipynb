{
 "cells": [
  {
   "cell_type": "code",
   "execution_count": 1,
   "metadata": {
    "collapsed": false
   },
   "outputs": [
    {
     "data": {
      "text/html": [
       "<style>.container {width:100% !important;}<style>"
      ],
      "text/plain": [
       "<IPython.core.display.HTML object>"
      ]
     },
     "metadata": {},
     "output_type": "display_data"
    }
   ],
   "source": [
    "from IPython.core.display import display, HTML\n",
    "display(HTML(\"<style>.container {width:100% !important;}<style>\"))"
   ]
  },
  {
   "cell_type": "markdown",
   "metadata": {},
   "source": [
    "# fit three kinds of line\n",
    "- 1：一条直线（一次函数拟合并延长）\n",
    "- 2：一条曲线（按X轴取像素中心拟合）\n",
    "- 3：Y型线&顶部粘住的两条线（分两条按X轴取像素中心拟合"
   ]
  },
  {
   "cell_type": "code",
   "execution_count": 2,
   "metadata": {
    "collapsed": false
   },
   "outputs": [
    {
     "name": "stderr",
     "output_type": "stream",
     "text": [
      "Using TensorFlow backend.\n",
      "/home/mc16/.local/lib/python2.7/site-packages/keras/models.py:282: UserWarning: No training configuration found in save file: the model was *not* compiled. Compile it manually.\n",
      "  warnings.warn('No training configuration found in save file: '\n"
     ]
    }
   ],
   "source": [
    "import numpy as np\n",
    "import matplotlib.pyplot as plt\n",
    "import datetime\n",
    "import cv2\n",
    "import math\n",
    "import tensorflow as tf\n",
    "import keras.backend as K\n",
    "from keras.models import load_model, Sequential, model_from_json\n",
    "import random\n",
    "from sklearn.cluster import DBSCAN\n",
    "import os\n",
    "\n",
    "from keras import layers\n",
    "from keras.layers import *\n",
    "from keras.layers.pooling import MaxPool2D, AveragePooling2D\n",
    "from keras.optimizers import Adam\n",
    "\n",
    "os.environ[\"CUDA_DEVICE_ORDER\"] = \"PCI_BUS_ID\"\n",
    "os.environ[\"CUDA_VISIBLE_DEVICES\"] = \"0\"\n",
    "\n",
    "TIMEFORMAT = \"%m-%d-%H:%M:%S\"\n",
    "GPU_MEMORY_FRACTION = 1.0\n",
    "DATA_SHAPE = 224\n",
    "\n",
    "def config_keras_backend(fraction):\n",
    "    config = tf.ConfigProto()\n",
    "    config.gpu_options.allow_growth = True\n",
    "    config.gpu_options.per_process_gpu_memory_fraction = fraction\n",
    "    sess = tf.Session(config=config)\n",
    "    K.set_session(sess)\n",
    "\n",
    "config_keras_backend(GPU_MEMORY_FRACTION)\n",
    "model = load_model('/home/mc16/model3/unet0615.h5')\n",
    "val_images = np.load('/home/mc16/pre_data/val_image.npy')\n",
    "val_labels = np.load('/home/mc16/pre_data/val_label_w3.npy')"
   ]
  },
  {
   "cell_type": "code",
   "execution_count": 3,
   "metadata": {
    "collapsed": true
   },
   "outputs": [],
   "source": [
    "def detect_points(img, model, shape):\n",
    "    img = cv2.resize(img, (shape,shape))\n",
    "    img = np.expand_dims(img,axis=0)\n",
    "    points_logist = model.predict(img)\n",
    "    points = np.argmax(points_logist, axis=-1)\n",
    "    return points[0]\n",
    "\n",
    "def cut_top(mask, thresh, frac=0.04):\n",
    "    cut_mask = np.array(mask)\n",
    "    sum_mask = np.sum(mask, axis=1)\n",
    "    top_index = 0\n",
    "    for i in range(len(sum_mask)):\n",
    "        if (sum_mask[i] > thresh):\n",
    "            top_index = i\n",
    "            break\n",
    "    cut_index = top_index + int((224 - top_index) * frac)\n",
    "    cut_mask[:cut_index,:] = 0\n",
    "    return cut_mask, top_index\n",
    "\n",
    "def matrix_to_point(matrix):\n",
    "    points = []\n",
    "    for x in range(matrix.shape[0]):\n",
    "        for y in range(matrix.shape[1]):\n",
    "            if(matrix[x][y] == 1):\n",
    "                points.append([x, y])\n",
    "    return np.array(points, dtype=np.uint8)\n",
    "\n",
    "def get_clusters(points, EPS = 1.5, MIN_SAMPLES = 3, minN=20, RANGE = 20):\n",
    "    if len(points) == 0: \n",
    "        cluster_list = []\n",
    "    else:\n",
    "        arpoints = np.array(points, dtype=np.uint8)\n",
    "        cluster_label = DBSCAN(eps=EPS, min_samples=MIN_SAMPLES).fit_predict(arpoints)\n",
    "        max_label = np.max(cluster_label)\n",
    "        min_label = np.min(cluster_label)\n",
    "        cluster_list = []\n",
    "        for label in range(min_label, max_label+1):\n",
    "            label_index = np.where(cluster_label == label)\n",
    "            if(len(label_index[0]) > minN):\n",
    "                temp_cluster = arpoints[label_index]                \n",
    "                x = temp_cluster[:, 0]\n",
    "                y = temp_cluster[:, 1]\n",
    "                x_range = x.max() - x.min()\n",
    "                y_range = y.max() - y.min()\n",
    "                if max(x_range, y_range) > RANGE:\n",
    "                    cluster_list.append(temp_cluster)\n",
    "    return np.array(cluster_list)\n",
    "\n",
    "def cluster_to_img(cluster_points, shape):\n",
    "    pic = np.zeros((shape, shape), np.uint8)\n",
    "    num_label = cluster_points.shape[0]\n",
    "    for i in range(num_label):\n",
    "        for point in cluster_points[i]:\n",
    "            pic[point[0], point[1]] = 50 + i * int((255 - 50) / num_label) \n",
    "    return pic"
   ]
  },
  {
   "cell_type": "markdown",
   "metadata": {},
   "source": [
    "# 1 straight line"
   ]
  },
  {
   "cell_type": "code",
   "execution_count": 4,
   "metadata": {
    "collapsed": false
   },
   "outputs": [],
   "source": [
    "def get_line_info(points):\n",
    "    ## 得到符合条件的line, line_info\n",
    "    ## 返回points, line_info_right, line_info_polar\n",
    "    line_info_right = []\n",
    "    line_info_polar = []\n",
    "    for line_num in range(points.shape[0]):\n",
    "        x = points[line_num][:, 0]\n",
    "        y = points[line_num][:, 1] \n",
    "        z = np.polyfit(x, y, 1)\n",
    "        p = np.poly1d(z)\n",
    "        line_info_right.append(z)\n",
    "        z_j = z.copy()\n",
    "        z_j[0] = (math.atan(z_j[0]) * 180 / math.pi) - 90\n",
    "        z_j[1] = abs(z_j[1] * math.sin(z_j[0]))\n",
    "        line_info_polar.append(z_j)\n",
    "    return points, line_info_right, line_info_polar\n",
    "\n",
    "## 根据传入的每条线的极坐标参数，角度阈值，距离阈值，将符合条件的簇删掉（todo 合并）\n",
    "def get_flg_arr(line_info_polar, ANGEL, DIS):\n",
    "    flg = [0 for i in range(len(line_info_polar))]\n",
    "    flg_id = 1\n",
    "    for i in range(len(line_info_polar)):\n",
    "        if flg[i] == 0:\n",
    "            flg[i] = flg_id\n",
    "            flg_id += 1\n",
    "        else:\n",
    "            continue\n",
    "        for j in range(i + 1, len(line_info_polar)):\n",
    "            if flg[j] != 0:\n",
    "                continue\n",
    "            if abs(line_info_polar[i][0] - line_info_polar[j][0]) < ANGEL and abs(line_info_polar[i][1] - line_info_polar[j][1]) < DIS:\n",
    "                flg[j] = flg[i]\n",
    "    return flg\n",
    "\n",
    "# input struct line -> point\n",
    "def fit_straight_lines(straight_clusters, x_min, ANGEL=20, DIS=20):\n",
    "    line_list = []\n",
    "    if(len(straight_clusters)==0):\n",
    "        return line_list\n",
    "        \n",
    "    x_min_mean = x_min\n",
    "    straight_clusters, line_info_right, line_info_polar = get_line_info(straight_clusters)\n",
    "    if(len(straight_clusters)==0):\n",
    "        return line_list\n",
    "    flg = get_flg_arr(line_info_polar, ANGEL, DIS)\n",
    "    temp_x = range(x_min_mean, 223)\n",
    "    flg_id = 1; zs = []\n",
    "    while flg_id <= np.array(flg).max():\n",
    "        z = [0, 0]\n",
    "        x_max_range = 0\n",
    "        max_index = 0\n",
    "        for i in range(flg.__len__()):\n",
    "            if flg[i] == flg_id:\n",
    "                cur_x_range = straight_clusters[i][:,0].max() - straight_clusters[i][:,0].min()\n",
    "                if cur_x_range > x_max_range:\n",
    "                    x_max_range = cur_x_range\n",
    "                    max_index = i\n",
    "                \n",
    "        z[0] = line_info_right[max_index][0]\n",
    "        z[1] = line_info_right[max_index][1]\n",
    "        zs.append(z)\n",
    "        flg_id += 1\n",
    "        \n",
    "    for line_num in range(zs.__len__()):\n",
    "        temp_x_y = []\n",
    "        line_p = np.poly1d(zs[line_num])\n",
    "        temp_y = line_p(temp_x)\n",
    "        j = 0\n",
    "        for i in range(temp_x.__len__()):\n",
    "            if temp_y[i] < 0 or temp_y[i] > 223:\n",
    "                continue\n",
    "            temp_x_y.append([temp_x[i], int(temp_y[i])])\n",
    "        line_list.append(temp_x_y)\n",
    "        \n",
    "    return line_list\n",
    "\n",
    "def lines_to_img(lines, shape):\n",
    "    pic = np.zeros((shape, shape), np.uint8)\n",
    "    for line in lines:\n",
    "        for point in line:\n",
    "            pic[point[0], point[1]] = 255\n",
    "    return pic\n",
    "\n",
    "def cluster_to_img(cluster_points, shape):\n",
    "    pic = np.zeros((shape, shape), np.uint8)\n",
    "    num_label = cluster_points.shape[0]\n",
    "    for i in range(num_label):\n",
    "        for point in cluster_points[i]:\n",
    "            pic[point[0], point[1]] = 50 + i * int((255 - 50) / num_label) \n",
    "    return pic"
   ]
  },
  {
   "cell_type": "markdown",
   "metadata": {},
   "source": [
    "# 2 Curve line"
   ]
  },
  {
   "cell_type": "code",
   "execution_count": 5,
   "metadata": {
    "collapsed": true
   },
   "outputs": [],
   "source": [
    "def fit_curve_lines(curve_clusters):\n",
    "    curve_list = []\n",
    "    if(len(curve_clusters)==0):\n",
    "        return curve_list\n",
    "    for cluster in curve_clusters:\n",
    "        curve = []\n",
    "        x_pre = cluster[0,0]\n",
    "        y_sum = 0\n",
    "        num = 0\n",
    "        for point in cluster:\n",
    "            point = np.array(point, dtype=np.uint16)\n",
    "            if point[0] == x_pre:\n",
    "                y_sum = y_sum + point[1]\n",
    "                num = num + 1\n",
    "            else:\n",
    "                y_mean = int(y_sum * 1. / num)\n",
    "                curve.append([x_pre, y_mean])\n",
    "                x_pre = point[0]\n",
    "                num = 1\n",
    "                y_sum = point[1]    \n",
    "                \n",
    "        curve.append([x_pre, int(y_sum * 1. / num)])\n",
    "        curve_list.append(curve)\n",
    "        \n",
    "    return curve_list"
   ]
  },
  {
   "cell_type": "markdown",
   "metadata": {},
   "source": [
    "# 3 Y line"
   ]
  },
  {
   "cell_type": "code",
   "execution_count": 6,
   "metadata": {
    "collapsed": false
   },
   "outputs": [],
   "source": [
    "# 把一个聚类结果的二维数组根据X轴坐标转换成三维数组\n",
    "def get_x_pixels(cluster):\n",
    "    x_unique = np.unique(cluster[:,0])\n",
    "    x_pixels = [[] for i in range(len(x_unique))]\n",
    "    y_gap = [0 for i in range(len(x_unique))]\n",
    "    x_index = 0\n",
    "    for point in cluster:\n",
    "        if(point[0] == x_unique[x_index]):\n",
    "            x_pixels[x_index].append(point.tolist())\n",
    "        else:\n",
    "            x_index += 1\n",
    "            x_pixels[x_index].append(point.tolist())\n",
    "            \n",
    "    for i, x_pixel_line in enumerate(x_pixels):\n",
    "        if(len(x_pixel_line) == 0):\n",
    "            continue\n",
    "        for j in range(1, len(x_pixel_line)):\n",
    "            gap = abs(x_pixel_line[j][1] - x_pixel_line[j-1][1])\n",
    "            if(gap > y_gap[i]):\n",
    "                y_gap[i] = gap\n",
    "                \n",
    "    return x_pixels, y_gap\n",
    "\n",
    "#判断Y型线开口方向：向上返回True，向下返回False\n",
    "def judge_open(y_gap):\n",
    "    max_gap = max(y_gap)\n",
    "    max_index = y_gap.index(max_gap)\n",
    "    if(max_index == 0 or (max_gap - y_gap[max_index + 1]) > 3):\n",
    "        return True\n",
    "    else:\n",
    "        return False\n",
    "\n",
    "def find_meeting(x_pixels, y_gap, y_open):\n",
    "    meet_point = [0,0]\n",
    "    x_index = 0\n",
    "    for i, gap in enumerate(y_gap):\n",
    "        if gap > 1 and gap < 4:\n",
    "            meet_point[0] = x_pixels[i][0][0]\n",
    "            x_index = i\n",
    "            break\n",
    "    meet_point[1] = int(np.mean(np.array(x_pixels[x_index])[:,1]))\n",
    "    return meet_point\n",
    "    \n",
    "def fit_Y_lines(Y_clusters):\n",
    "    Y_lines = []\n",
    "    if(len(Y_clusters)==0):\n",
    "        return Y_lines\n",
    "    \n",
    "    for cluster in Y_clusters:\n",
    "        x_pixels, y_gap = get_x_pixels(cluster)\n",
    "#         print(x_pixels)\n",
    "        y_open = judge_open(y_gap)\n",
    "        meet_point = find_meeting(x_pixels, y_gap, y_open)\n",
    "        print(y_open, meet_point)\n",
    "    \n",
    "    return Y_lines"
   ]
  },
  {
   "cell_type": "markdown",
   "metadata": {},
   "source": [
    "## begin"
   ]
  },
  {
   "cell_type": "code",
   "execution_count": 20,
   "metadata": {
    "collapsed": true
   },
   "outputs": [],
   "source": [
    "def cluster_result_classifier(img):\n",
    "    CLASS_WEIGHT = [1, 9, 6, 5]\n",
    "    json_string = open('/home/mc16/zhy/Classification_Model/model_json.json').read()\n",
    "    model_1 = model_from_json(json_string)\n",
    "    model_1 = model_1.load_weights('/home/mc16/zhy/Classification_Model/classifier-final-weight_2.h5')\n",
    "    classification_result = model_1.predict(x=img)\n",
    "    return classification_result.argmax()"
   ]
  },
  {
   "cell_type": "code",
   "execution_count": 17,
   "metadata": {
    "collapsed": true
   },
   "outputs": [],
   "source": [
    "def line2img(line, shape):\n",
    "    x_list = line[:, 0]\n",
    "    y_list = line[:, 1]\n",
    "    x_range = x_list.max() - x_list.min() + 1\n",
    "    y_range = y_list.max() - y_list.min() + 1\n",
    "    x_list = x_list - x_list.min()\n",
    "    y_list = y_list - y_list.min()\n",
    "    pic = np.zeros((x_range, y_range), np.uint8)\n",
    "    for x, y in zip(x_list, y_list):\n",
    "        pic[x, y] = 255\n",
    "    img = cv2.resize(pic ,(shape, shape))\n",
    "    return img"
   ]
  },
  {
   "cell_type": "code",
   "execution_count": 18,
   "metadata": {
    "collapsed": false
   },
   "outputs": [],
   "source": [
    "def cluster_result_classifier_helper(cluster):\n",
    "    result = []\n",
    "    # print cluster.shape[0]\n",
    "    for i in range(cluster.shape[0]):\n",
    "        img = line2img(cluster[i], 32)\n",
    "        plt.imshow(img)\n",
    "        plt.show()\n",
    "        img = img.reshape(1, 32, 32, 1)\n",
    "        classification_result = cluster_result_classifier(img)\n",
    "        print classification_result\n",
    "        result.append(classification_result)\n",
    "    return result"
   ]
  },
  {
   "cell_type": "code",
   "execution_count": 10,
   "metadata": {
    "collapsed": true
   },
   "outputs": [],
   "source": [
    "val_image = \"/home/mc16/result/val_cluster_06-18-05:50:42.npy\""
   ]
  },
  {
   "cell_type": "code",
   "execution_count": 21,
   "metadata": {
    "collapsed": false
   },
   "outputs": [
    {
     "data": {
      "image/png": "[encoded data removed]",
      "text/plain": [
       "<Figure size 432x288 with 1 Axes>"
      ]
     },
     "metadata": {},
     "output_type": "display_data"
    },
    {
     "name": "stdout",
     "output_type": "stream",
     "text": [
      "_________________________________________________________________\n",
      "Layer (type)                 Output Shape              Param #   \n",
      "=================================================================\n",
      "conv2d_9 (Conv2D)            (None, 30, 30, 16)        160       \n",
      "_________________________________________________________________\n",
      "conv2d_10 (Conv2D)           (None, 28, 28, 16)        2320      \n",
      "_________________________________________________________________\n",
      "batch_normalization_5 (Batch (None, 28, 28, 16)        64        \n",
      "_________________________________________________________________\n",
      "max_pooling2d_5 (MaxPooling2 (None, 14, 14, 16)        0         \n",
      "_________________________________________________________________\n",
      "dropout_7 (Dropout)          (None, 14, 14, 16)        0         \n",
      "_________________________________________________________________\n",
      "conv2d_11 (Conv2D)           (None, 12, 12, 32)        4640      \n",
      "_________________________________________________________________\n",
      "conv2d_12 (Conv2D)           (None, 10, 10, 32)        9248      \n",
      "_________________________________________________________________\n",
      "batch_normalization_6 (Batch (None, 10, 10, 32)        128       \n",
      "_________________________________________________________________\n",
      "max_pooling2d_6 (MaxPooling2 (None, 5, 5, 32)          0         \n",
      "_________________________________________________________________\n",
      "dropout_8 (Dropout)          (None, 5, 5, 32)          0         \n",
      "_________________________________________________________________\n",
      "flatten_3 (Flatten)          (None, 800)               0         \n",
      "_________________________________________________________________\n",
      "dense_5 (Dense)              (None, 64)                51264     \n",
      "_________________________________________________________________\n",
      "dropout_9 (Dropout)          (None, 64)                0         \n",
      "_________________________________________________________________\n",
      "dense_6 (Dense)              (None, 4)                 260       \n",
      "=================================================================\n",
      "Total params: 68,084\n",
      "Trainable params: 67,988\n",
      "Non-trainable params: 96\n",
      "_________________________________________________________________\n"
     ]
    },
    {
     "ename": "AttributeError",
     "evalue": "'NoneType' object has no attribute 'predict'",
     "output_type": "error",
     "traceback": [
      "\u001b[0;31m---------------------------------------------------------------------------\u001b[0m",
      "\u001b[0;31mAttributeError\u001b[0m                            Traceback (most recent call last)",
      "\u001b[0;32m<ipython-input-21-3a2b3e6fa76e>\u001b[0m in \u001b[0;36m<module>\u001b[0;34m()\u001b[0m\n\u001b[1;32m     13\u001b[0m \u001b[0;34m\u001b[0m\u001b[0m\n\u001b[1;32m     14\u001b[0m \u001b[0mcluster\u001b[0m \u001b[0;34m=\u001b[0m \u001b[0mget_clusters\u001b[0m\u001b[0;34m(\u001b[0m\u001b[0mpoint\u001b[0m\u001b[0;34m,\u001b[0m \u001b[0mEPS\u001b[0m \u001b[0;34m=\u001b[0m \u001b[0mCLUSTER_EPS\u001b[0m\u001b[0;34m,\u001b[0m \u001b[0mMIN_SAMPLES\u001b[0m \u001b[0;34m=\u001b[0m \u001b[0;36m3\u001b[0m\u001b[0;34m,\u001b[0m \u001b[0mminN\u001b[0m \u001b[0;34m=\u001b[0m \u001b[0mCLUSTER_MINN\u001b[0m\u001b[0;34m,\u001b[0m \u001b[0mRANGE\u001b[0m \u001b[0;34m=\u001b[0m \u001b[0mCLUSTER_RANGE\u001b[0m\u001b[0;34m)\u001b[0m\u001b[0;34m\u001b[0m\u001b[0m\n\u001b[0;32m---> 15\u001b[0;31m \u001b[0mclassifier_result\u001b[0m \u001b[0;34m=\u001b[0m \u001b[0mcluster_result_classifier_helper\u001b[0m\u001b[0;34m(\u001b[0m\u001b[0mcluster\u001b[0m\u001b[0;34m)\u001b[0m\u001b[0;34m\u001b[0m\u001b[0m\n\u001b[0m\u001b[1;32m     16\u001b[0m \u001b[0;32mprint\u001b[0m \u001b[0mclassifier_result\u001b[0m\u001b[0;34m\u001b[0m\u001b[0m\n",
      "\u001b[0;32m<ipython-input-18-df1dcf0f7ab1>\u001b[0m in \u001b[0;36mcluster_result_classifier_helper\u001b[0;34m(cluster)\u001b[0m\n\u001b[1;32m      7\u001b[0m         \u001b[0mplt\u001b[0m\u001b[0;34m.\u001b[0m\u001b[0mshow\u001b[0m\u001b[0;34m(\u001b[0m\u001b[0;34m)\u001b[0m\u001b[0;34m\u001b[0m\u001b[0m\n\u001b[1;32m      8\u001b[0m         \u001b[0mimg\u001b[0m \u001b[0;34m=\u001b[0m \u001b[0mimg\u001b[0m\u001b[0;34m.\u001b[0m\u001b[0mreshape\u001b[0m\u001b[0;34m(\u001b[0m\u001b[0;36m1\u001b[0m\u001b[0;34m,\u001b[0m \u001b[0;36m32\u001b[0m\u001b[0;34m,\u001b[0m \u001b[0;36m32\u001b[0m\u001b[0;34m,\u001b[0m \u001b[0;36m1\u001b[0m\u001b[0;34m)\u001b[0m\u001b[0;34m\u001b[0m\u001b[0m\n\u001b[0;32m----> 9\u001b[0;31m         \u001b[0mclassification_result\u001b[0m \u001b[0;34m=\u001b[0m \u001b[0mcluster_result_classifier\u001b[0m\u001b[0;34m(\u001b[0m\u001b[0mimg\u001b[0m\u001b[0;34m)\u001b[0m\u001b[0;34m\u001b[0m\u001b[0m\n\u001b[0m\u001b[1;32m     10\u001b[0m         \u001b[0;32mprint\u001b[0m \u001b[0mclassification_result\u001b[0m\u001b[0;34m\u001b[0m\u001b[0m\n\u001b[1;32m     11\u001b[0m         \u001b[0mresult\u001b[0m\u001b[0;34m.\u001b[0m\u001b[0mappend\u001b[0m\u001b[0;34m(\u001b[0m\u001b[0mclassification_result\u001b[0m\u001b[0;34m)\u001b[0m\u001b[0;34m\u001b[0m\u001b[0m\n",
      "\u001b[0;32m<ipython-input-20-c6997ac69ed8>\u001b[0m in \u001b[0;36mcluster_result_classifier\u001b[0;34m(img)\u001b[0m\n\u001b[1;32m      6\u001b[0m     \u001b[0mmodel_1\u001b[0m \u001b[0;34m=\u001b[0m \u001b[0mmodel_1\u001b[0m\u001b[0;34m.\u001b[0m\u001b[0mload_weights\u001b[0m\u001b[0;34m(\u001b[0m\u001b[0;34m'/home/mc16/zhy/Classification_Model/classifier-final-weight_2.h5'\u001b[0m\u001b[0;34m)\u001b[0m\u001b[0;34m\u001b[0m\u001b[0m\n\u001b[1;32m      7\u001b[0m \u001b[0;34m\u001b[0m\u001b[0m\n\u001b[0;32m----> 8\u001b[0;31m     \u001b[0mclassification_result\u001b[0m \u001b[0;34m=\u001b[0m \u001b[0mmodel_1\u001b[0m\u001b[0;34m.\u001b[0m\u001b[0mpredict\u001b[0m\u001b[0;34m(\u001b[0m\u001b[0mx\u001b[0m\u001b[0;34m=\u001b[0m\u001b[0mimg\u001b[0m\u001b[0;34m)\u001b[0m\u001b[0;34m\u001b[0m\u001b[0m\n\u001b[0m\u001b[1;32m      9\u001b[0m     \u001b[0;32mreturn\u001b[0m \u001b[0mclassification_result\u001b[0m\u001b[0;34m.\u001b[0m\u001b[0margmax\u001b[0m\u001b[0;34m(\u001b[0m\u001b[0;34m)\u001b[0m\u001b[0;34m\u001b[0m\u001b[0m\n",
      "\u001b[0;31mAttributeError\u001b[0m: 'NoneType' object has no attribute 'predict'"
     ]
    }
   ],
   "source": [
    "CUT_TOP_THRESH = 5\n",
    "CLUSTER_EPS = 1.9\n",
    "CLUSTER_MINN = 50\n",
    "CLUSTER_RANGE = 27\n",
    "FIT_THETA = 20\n",
    "FIT_RO = 20\n",
    "\n",
    "index = random.randint(0, len(val_image))\n",
    "img = val_images[index]\n",
    "seg = detect_points(img, model, DATA_SHAPE)\n",
    "cut, top_index = cut_top(seg, CUT_TOP_THRESH, frac=0.12)\n",
    "point = matrix_to_point(cut)\n",
    "\n",
    "cluster = get_clusters(point, EPS = CLUSTER_EPS, MIN_SAMPLES = 3, minN = CLUSTER_MINN, RANGE = CLUSTER_RANGE)\n",
    "classifier_result = cluster_result_classifier_helper(cluster)\n",
    "print classifier_result"
   ]
  },
  {
   "cell_type": "markdown",
   "metadata": {},
   "source": [
    "## end"
   ]
  },
  {
   "cell_type": "code",
   "execution_count": null,
   "metadata": {
    "collapsed": false,
    "scrolled": true
   },
   "outputs": [],
   "source": [
    "def show(CUT_TOP_THRESH=10, CLUSTER_EPS=1.9, CLUSTER_MINN=50, CLUSTER_RANGE=20, FIT_THETA=15, FIT_RO=35, index=-1):\n",
    "    if index == -1:\n",
    "        index = random.randint(0, len(val_images))\n",
    "    img = val_images[index]\n",
    "    label = val_labels[index,:,:,1]\n",
    "    seg = detect_points(img, model, DATA_SHAPE)\n",
    "    cut, top_index = cut_top(seg, CUT_TOP_THRESH, frac=0.12)\n",
    "    point = matrix_to_point(cut)\n",
    "    \n",
    "    cluster = get_clusters(point, EPS = CLUSTER_EPS, MIN_SAMPLES = 3, minN = CLUSTER_MINN, RANGE = CLUSTER_RANGE)\n",
    "    classifier_result = cluster_result_classifier_helper(cluster)\n",
    "    print classifier_result\n",
    "    \n",
    "    cluster_img = cluster_to_img(cluster, DATA_SHAPE)\n",
    "    straight_lines = fit_straight_lines(cluster, top_index, ANGEL=FIT_THETA, DIS=FIT_RO)\n",
    "    curve_lines = fit_curve_lines(cluster)\n",
    "    Y_lines = fit_Y_lines(cluster)\n",
    "    straight_img = lines_to_img(straight_lines, DATA_SHAPE)\n",
    "    curve_img = lines_to_img(curve_lines, DATA_SHAPE)\n",
    "    print(len(curve_lines[0]), curve_lines[0])\n",
    "    \n",
    "    fig, axs = plt.subplots(1, 4, figsize=(20,5))\n",
    "    axs[0].set_title('label', fontsize=18), axs[0].imshow(label, cmap='gray')\n",
    "    axs[1].set_title('cluster', fontsize=18), axs[1].imshow(cluster_img, cmap='gray')\n",
    "    axs[2].set_title('straight', fontsize=18), axs[2].imshow(straight_img,cmap='gray')\n",
    "    axs[3].set_title('curve', fontsize=18), axs[3].imshow(curve_img,cmap='gray')\n",
    "    print(\"index %s\"%index, \"cluster number %s\"%len(cluster), \"fit number %s\"%len(straight_lines), \"top index %s\"%top_index)\n",
    "    plt.show()\n",
    "    \n",
    "CUT_TOP_THRESH = 5\n",
    "CLUSTER_EPS = 1.9\n",
    "CLUSTER_MINN = 50\n",
    "CLUSTER_RANGE = 27\n",
    "FIT_THETA = 20\n",
    "FIT_RO = 20\n",
    "# show(CUT_TOP_THRESH, CLUSTER_EPS, CLUSTER_MINN, CLUSTER_RANGE, FIT_THETA, FIT_RO, 741)\n",
    "show(CUT_TOP_THRESH, CLUSTER_EPS, CLUSTER_MINN, CLUSTER_RANGE, FIT_THETA, FIT_RO, -1)"
   ]
  }
 ],
 "metadata": {
  "anaconda-cloud": {},
  "kernelspec": {
   "display_name": "Python [default]",
   "language": "python",
   "name": "python2"
  },
  "language_info": {
   "codemirror_mode": {
    "name": "ipython",
    "version": 2
   },
   "file_extension": ".py",
   "mimetype": "text/x-python",
   "name": "python",
   "nbconvert_exporter": "python",
   "pygments_lexer": "ipython2",
   "version": "2.7.12"
  }
 },
 "nbformat": 4,
 "nbformat_minor": 1
}
