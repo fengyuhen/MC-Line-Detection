{
 "cells": [
  {
   "cell_type": "code",
   "execution_count": 1,
   "metadata": {
    "collapsed": false
   },
   "outputs": [
    {
     "data": {
      "text/html": [
       "<style>.container {width:100% !important;}<style>"
      ],
      "text/plain": [
       "<IPython.core.display.HTML object>"
      ]
     },
     "metadata": {},
     "output_type": "display_data"
    }
   ],
   "source": [
    "from IPython.core.display import display, HTML\n",
    "display(HTML(\"<style>.container {width:100% !important;}<style>\"))"
   ]
  },
  {
   "cell_type": "markdown",
   "metadata": {},
   "source": [
    "# Cluster"
   ]
  },
  {
   "cell_type": "code",
   "execution_count": 202,
   "metadata": {
    "collapsed": true
   },
   "outputs": [],
   "source": [
    "import pandas as pd\n",
    "import numpy as np\n",
    "import matplotlib.pyplot as plt\n",
    "from sklearn.cluster import DBSCAN\n",
    "import os\n",
    "import json\n",
    "from tqdm import tqdm\n",
    "import random\n",
    "\n",
    "%matplotlib inline\n",
    "DATA_SHAPE = 224\n",
    "\n",
    "val_labels = np.load('/home/mc16/pre_data/val_label_%s.npy'%DATA_SHAPE)\n",
    "val_detect_points = np.load('/home/mc16/result/val_masks_06-11-18:34:58.npy')\n",
    "test_detect_points = np.load('/home/mc16/result/test_masks_06-11-18:34:33.npy')"
   ]
  },
  {
   "cell_type": "code",
   "execution_count": 215,
   "metadata": {
    "collapsed": true
   },
   "outputs": [],
   "source": [
    "val_labels = np.load('/home/mc16/pre_data/val_label_%s.npy'%DATA_SHAPE)\n",
    "val_images = np.load('/home/mc16/pre_data/val_image_%s.npy'%DATA_SHAPE)\n",
    "val_masks = np.load('/home/mc16/result/val_masks_06-12-00:43:14.npy')"
   ]
  },
  {
   "cell_type": "code",
   "execution_count": 206,
   "metadata": {
    "collapsed": true
   },
   "outputs": [],
   "source": [
    "def cut_top(mask, frac=0.3):\n",
    "    cut_mask = np.array(mask)\n",
    "    sum_mask = np.sum(mask, axis=1)\n",
    "    cut_top = 0\n",
    "    for i in range(len(sum_mask)):\n",
    "        if sum_mask[i] > 5:\n",
    "            cut_top = i\n",
    "            break\n",
    "    cut_down = cut_top + int((224 - cut_top) * frac)\n",
    "    cut_mask[:cut_down,:] = 0\n",
    "    return cut_mask\n",
    "\n",
    "def cut_shit(mask, num):\n",
    "    cut_mask = np.array(mask)\n",
    "    for j in range(224):\n",
    "        for i in range(223-num):\n",
    "            if np.sum(cut_mask[j, i:i+num]) > num*0.6:\n",
    "                cut_mask[j, i:i+num] = 0\n",
    "    return cut_mask"
   ]
  },
  {
   "cell_type": "code",
   "execution_count": 237,
   "metadata": {
    "collapsed": false
   },
   "outputs": [
    {
     "data": {
      "image/png": "[encoded data removed]",
      "text/plain": [
       "<Figure size 2160x2160 with 3 Axes>"
      ]
     },
     "metadata": {},
     "output_type": "display_data"
    }
   ],
   "source": [
    "test_index = random.randint(0, len(val_labels))\n",
    "# test_index = 0\n",
    "test_points = val_masks[test_index]\n",
    "# cut_mask = cut_top(test_points, frac=0.1)\n",
    "cut_mask = cut_shit(test_points, 25)\n",
    "# test_mask = crf_image(test_img, model)\n",
    "fig, axs = plt.subplots(1, 3, figsize=(30,30)) \n",
    "axs[0].imshow(test_label,cmap='gray')\n",
    "axs[1].imshow(test_points,cmap='gray')\n",
    "axs[2].imshow(cut_mask,cmap='gray')\n",
    "plt.show()"
   ]
  },
  {
   "cell_type": "code",
   "execution_count": 247,
   "metadata": {
    "collapsed": true
   },
   "outputs": [],
   "source": [
    "# format matrix to point(x,y)\n",
    "def matrix_to_point(detect_points):\n",
    "    points_list = [[] for i in range(len(detect_points))]\n",
    "    for i in tqdm(range(detect_points.shape[0])):\n",
    "        for x in range(detect_points[i].shape[0]):\n",
    "            for y in range(detect_points[i].shape[1]):\n",
    "                if(detect_points[i][x][y] == 1):\n",
    "                    points_list[i].append([x, y])\n",
    "    return np.array(points_list)"
   ]
  },
  {
   "cell_type": "code",
   "execution_count": 5,
   "metadata": {
    "collapsed": false
   },
   "outputs": [
    {
     "name": "stderr",
     "output_type": "stream",
     "text": [
      "100%|██████████| 2015/2015 [04:12<00:00,  7.99it/s]\n",
      "100%|██████████| 2029/2029 [04:14<00:00,  7.98it/s]\n"
     ]
    }
   ],
   "source": [
    "val_point_data = matrix_to_point(val_detect_points)\n",
    "test_point_data = matrix_to_point(test_detect_points)"
   ]
  },
  {
   "cell_type": "markdown",
   "metadata": {},
   "source": [
    "## test + tuning cluster"
   ]
  },
  {
   "cell_type": "code",
   "execution_count": 88,
   "metadata": {
    "collapsed": true
   },
   "outputs": [],
   "source": [
    "def show(points_df):\n",
    "    fig = plt.figure()\n",
    "    ax1 = fig.add_subplot(111)\n",
    "    ax1.set_ylim(0, 224)\n",
    "    ax1.set_xlim(0, 224)\n",
    "    fig.gca().invert_yaxis()\n",
    "    plt.scatter(points_df['y'], points_df['x'], c=points_df['class']+2)\n",
    "    plt.show()"
   ]
  },
  {
   "cell_type": "code",
   "execution_count": 244,
   "metadata": {
    "collapsed": true
   },
   "outputs": [],
   "source": [
    "def cluster(points, EPS = 1, MIN_SAMPLES = 3):\n",
    "    y_class = DBSCAN(eps=EPS, min_samples=MIN_SAMPLES).fit_predict(points)\n",
    "    temp = pd.DataFrame(points, columns=['x', 'y'])\n",
    "    temp['class'] = y_class\n",
    "    show(temp)\n",
    "    return temp"
   ]
  },
  {
   "cell_type": "code",
   "execution_count": 249,
   "metadata": {
    "collapsed": false,
    "scrolled": true
   },
   "outputs": [
    {
     "ename": "TypeError",
     "evalue": "object of type 'NoneType' has no len()",
     "output_type": "error",
     "traceback": [
      "\u001b[0;31m---------------------------------------------------------------------------\u001b[0m",
      "\u001b[0;31mTypeError\u001b[0m                                 Traceback (most recent call last)",
      "\u001b[0;32m<ipython-input-249-17ec31336d3c>\u001b[0m in \u001b[0;36m<module>\u001b[0;34m()\u001b[0m\n\u001b[1;32m      6\u001b[0m \u001b[0;31m#         break\u001b[0m\u001b[0;34m\u001b[0m\u001b[0;34m\u001b[0m\u001b[0m\n\u001b[1;32m      7\u001b[0m \u001b[0mcut_mask\u001b[0m \u001b[0;34m=\u001b[0m \u001b[0mcut_mask\u001b[0m\u001b[0;34m.\u001b[0m\u001b[0mresize\u001b[0m\u001b[0;34m(\u001b[0m\u001b[0;36m1\u001b[0m\u001b[0;34m,\u001b[0m \u001b[0;36m224\u001b[0m\u001b[0;34m,\u001b[0m\u001b[0;36m224\u001b[0m\u001b[0;34m)\u001b[0m\u001b[0;34m\u001b[0m\u001b[0m\n\u001b[0;32m----> 8\u001b[0;31m \u001b[0mcut_mask_points\u001b[0m \u001b[0;34m=\u001b[0m \u001b[0mmatrix_to_point\u001b[0m\u001b[0;34m(\u001b[0m\u001b[0mcut_mask\u001b[0m\u001b[0;34m)\u001b[0m\u001b[0;34m\u001b[0m\u001b[0m\n\u001b[0m\u001b[1;32m      9\u001b[0m \u001b[0mcluster\u001b[0m\u001b[0;34m(\u001b[0m\u001b[0mcut_mask\u001b[0m\u001b[0;34m)\u001b[0m\u001b[0;34m\u001b[0m\u001b[0m\n",
      "\u001b[0;32m<ipython-input-247-8863203bb309>\u001b[0m in \u001b[0;36mmatrix_to_point\u001b[0;34m(detect_points)\u001b[0m\n\u001b[1;32m      1\u001b[0m \u001b[0;31m# format matrix to point(x,y)\u001b[0m\u001b[0;34m\u001b[0m\u001b[0;34m\u001b[0m\u001b[0m\n\u001b[1;32m      2\u001b[0m \u001b[0;32mdef\u001b[0m \u001b[0mmatrix_to_point\u001b[0m\u001b[0;34m(\u001b[0m\u001b[0mdetect_points\u001b[0m\u001b[0;34m)\u001b[0m\u001b[0;34m:\u001b[0m\u001b[0;34m\u001b[0m\u001b[0m\n\u001b[0;32m----> 3\u001b[0;31m     \u001b[0mpoints_list\u001b[0m \u001b[0;34m=\u001b[0m \u001b[0;34m[\u001b[0m\u001b[0;34m[\u001b[0m\u001b[0;34m]\u001b[0m \u001b[0;32mfor\u001b[0m \u001b[0mi\u001b[0m \u001b[0;32min\u001b[0m \u001b[0mrange\u001b[0m\u001b[0;34m(\u001b[0m\u001b[0mlen\u001b[0m\u001b[0;34m(\u001b[0m\u001b[0mdetect_points\u001b[0m\u001b[0;34m)\u001b[0m\u001b[0;34m)\u001b[0m\u001b[0;34m]\u001b[0m\u001b[0;34m\u001b[0m\u001b[0m\n\u001b[0m\u001b[1;32m      4\u001b[0m     \u001b[0;32mfor\u001b[0m \u001b[0mi\u001b[0m \u001b[0;32min\u001b[0m \u001b[0mtqdm\u001b[0m\u001b[0;34m(\u001b[0m\u001b[0mrange\u001b[0m\u001b[0;34m(\u001b[0m\u001b[0mdetect_points\u001b[0m\u001b[0;34m.\u001b[0m\u001b[0mshape\u001b[0m\u001b[0;34m[\u001b[0m\u001b[0;36m0\u001b[0m\u001b[0;34m]\u001b[0m\u001b[0;34m)\u001b[0m\u001b[0;34m)\u001b[0m\u001b[0;34m:\u001b[0m\u001b[0;34m\u001b[0m\u001b[0m\n\u001b[1;32m      5\u001b[0m         \u001b[0;32mfor\u001b[0m \u001b[0mx\u001b[0m \u001b[0;32min\u001b[0m \u001b[0mrange\u001b[0m\u001b[0;34m(\u001b[0m\u001b[0mdetect_points\u001b[0m\u001b[0;34m[\u001b[0m\u001b[0mi\u001b[0m\u001b[0;34m]\u001b[0m\u001b[0;34m.\u001b[0m\u001b[0mshape\u001b[0m\u001b[0;34m[\u001b[0m\u001b[0;36m0\u001b[0m\u001b[0;34m]\u001b[0m\u001b[0;34m)\u001b[0m\u001b[0;34m:\u001b[0m\u001b[0;34m\u001b[0m\u001b[0m\n",
      "\u001b[0;31mTypeError\u001b[0m: object of type 'NoneType' has no len()"
     ]
    }
   ],
   "source": [
    "# for i in range(cut_mask.__len__()):\n",
    "#     # points = pd.DataFrame(val_point_data[i], columns=['x', 'y'])\n",
    "#     cut_mask_points = cut_mask[i]\n",
    "#     temp = cluster(cut_mask_points)\n",
    "#     if i == 5:\n",
    "#         break\n",
    "cut_mask = cut_mask.resize(1, 224, 224)\n",
    "cut_mask_points = matrix_to_point(cut_mask)\n",
    "cluster(cut_mask)"
   ]
  },
  {
   "cell_type": "code",
   "execution_count": 15,
   "metadata": {
    "collapsed": false
   },
   "outputs": [
    {
     "name": "stderr",
     "output_type": "stream",
     "text": [
      "100%|██████████| 2015/2015 [00:16<00:00, 123.21it/s]\n",
      "100%|██████████| 2029/2029 [00:19<00:00, 104.74it/s]\n"
     ]
    }
   ],
   "source": [
    "# cluster points to coarse lines\n",
    "def get_cluster_points(points_list, EPS = 1.5, MIN_SAMPLES = 3):\n",
    "    cluster_points_list = []\n",
    "    for points in tqdm(points_list):\n",
    "        if points == []: \n",
    "            cluster_points = []\n",
    "        else:\n",
    "            arpoints = np.array(points, dtype=np.uint8)\n",
    "            cluster_label = DBSCAN(eps=EPS, min_samples=MIN_SAMPLES).fit_predict(arpoints)\n",
    "            max_label = np.max(cluster_label)\n",
    "            cluster_points = []\n",
    "            for label in range(-1, max_label+1):\n",
    "                label_index = np.where(cluster_label == label)\n",
    "                cluster_points.append(arpoints[label_index])\n",
    "        cluster_points_list.append(np.array(cluster_points))\n",
    "    return np.array(cluster_points_list)\n",
    "\n",
    "val_cluster_list = get_cluster_points(val_point_data, EPS = 1.5, MIN_SAMPLES = 3)\n",
    "test_cluster_list = get_cluster_points(test_point_data, EPS = 1.5, MIN_SAMPLES = 3)"
   ]
  },
  {
   "cell_type": "code",
   "execution_count": 32,
   "metadata": {
    "collapsed": false
   },
   "outputs": [
    {
     "name": "stdout",
     "output_type": "stream",
     "text": [
      "(<type 'numpy.ndarray'>, <type 'numpy.ndarray'>, <type 'numpy.ndarray'>, 152)\n"
     ]
    }
   ],
   "source": [
    "print(type(val_cluster_list), type(val_cluster_list[0]), type(val_cluster_list[0][0]), val_cluster_list[0][1].max())"
   ]
  },
  {
   "cell_type": "code",
   "execution_count": 201,
   "metadata": {
    "collapsed": false,
    "scrolled": true
   },
   "outputs": [
    {
     "data": {
      "image/png": "[encoded data removed]",
      "text/plain": [
       "<Figure size 2160x2160 with 3 Axes>"
      ]
     },
     "metadata": {},
     "output_type": "display_data"
    }
   ],
   "source": [
    "def cluster_to_img(cluster_points, shape):\n",
    "    pic = np.zeros((shape, shape), np.uint8)\n",
    "    num_label = cluster_points.shape[0]\n",
    "    for i in range(num_label):\n",
    "        for point in cluster_points[i]:\n",
    "            pic[point[0], point[1]] = i * int(255 / num_label)\n",
    "    return pic\n",
    "\n",
    "test_index = random.randint(0, len(clustered_point_list))\n",
    "test_label = val_labels[test_index,:,:,1]\n",
    "test_points = val_detect_points[test_index]\n",
    "\n",
    "cluster_img = cluster_to_img(clustered_point_list[test_index], DATA_SHAPE)\n",
    "\n",
    "fig, axs = plt.subplots(1, 3, figsize=(30,30)) \n",
    "axs[0].imshow(test_label,cmap='gray')\n",
    "axs[1].imshow(test_points,cmap='gray')\n",
    "axs[2].imshow(cluster_img,cmap='gray')\n",
    "plt.show()"
   ]
  },
  {
   "cell_type": "markdown",
   "metadata": {},
   "source": [
    "# Save result"
   ]
  },
  {
   "cell_type": "code",
   "execution_count": 205,
   "metadata": {
    "collapsed": true
   },
   "outputs": [],
   "source": [
    "import datetime\n",
    "TIMEFORMAT = '%m-%d-%H:%M:%S'\n",
    "time = datetime.datetime.now().strftime(TIMEFORMAT)\n",
    "np.save(\"/home/mc16/result/test_cluster_%s.npy\"%time, test_cluster_list)\n",
    "time = datetime.datetime.now().strftime(TIMEFORMAT)\n",
    "np.save(\"/home/mc16/result/val_cluster_%s.npy\"%time, val_cluster_list)"
   ]
  }
 ],
 "metadata": {
  "anaconda-cloud": {},
  "kernelspec": {
   "display_name": "Python [default]",
   "language": "python",
   "name": "python2"
  },
  "language_info": {
   "codemirror_mode": {
    "name": "ipython",
    "version": 2
   },
   "file_extension": ".py",
   "mimetype": "text/x-python",
   "name": "python",
   "nbconvert_exporter": "python",
   "pygments_lexer": "ipython2",
   "version": "2.7.12"
  }
 },
 "nbformat": 4,
 "nbformat_minor": 1
}
