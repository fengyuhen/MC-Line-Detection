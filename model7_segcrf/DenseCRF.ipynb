{
 "cells": [
  {
   "cell_type": "code",
   "execution_count": 21,
   "metadata": {
    "collapsed": false
   },
   "outputs": [
    {
     "data": {
      "text/html": [
       "<style>.container {width:100% !important;}<style>"
      ],
      "text/plain": [
       "<IPython.core.display.HTML object>"
      ]
     },
     "metadata": {},
     "output_type": "display_data"
    }
   ],
   "source": [
    "from IPython.core.display import display, HTML\n",
    "display(HTML(\"<style>.container {width:100% !important;}<style>\"))"
   ]
  },
  {
   "cell_type": "code",
   "execution_count": 3,
   "metadata": {
    "collapsed": false
   },
   "outputs": [],
   "source": [
    "import numpy as np\n",
    "import tensorflow as tf\n",
    "from keras.preprocessing import image\n",
    "import keras.backend as K\n",
    "from keras.utils import multi_gpu_model, np_utils\n",
    "from keras.models import load_model\n",
    "from keras.models import model_from_json\n",
    "from tqdm import tqdm\n",
    "import matplotlib.pyplot as plt\n",
    "import cv2\n",
    "import random\n",
    "import pydensecrf.densecrf as dcrf\n",
    "from pydensecrf.utils import compute_unary, create_pairwise_bilateral, create_pairwise_gaussian, unary_from_softmax\n",
    "import os\n",
    "import warnings\n",
    "warnings.simplefilter(\"ignore\", np.RankWarning)\n",
    "\n",
    "os.environ[\"CUDA_DEVICE_ORDER\"] = \"PCI_BUS_ID\"\n",
    "os.environ[\"CUDA_VISIBLE_DEVICES\"] = \"7\"\n",
    "GPU_MEMORY_FRACTION = 1.0\n",
    "DATA_SHAPE = 224"
   ]
  },
  {
   "cell_type": "code",
   "execution_count": 2,
   "metadata": {
    "collapsed": false
   },
   "outputs": [],
   "source": [
    "def config_keras_backend(fraction):\n",
    "    config = tf.ConfigProto()\n",
    "    config.gpu_options.allow_growth = True\n",
    "    config.gpu_options.per_process_gpu_memory_fraction = fraction \n",
    "    sess = tf.Session(config=config)\n",
    "    K.set_session(sess)\n",
    "\n",
    "# config_keras_backend(GPU_MEMORY_FRACTION)\n",
    "val_labels = np.load('/home/mc16/pre_data/val_label_%s.npy'%DATA_SHAPE)\n",
    "val_images = np.load('/home/mc16/pre_data/val_image_%s.npy'%DATA_SHAPE)\n",
    "val_masks = np.load('/home/mc16/result/val_seg_06-13-14:49:58.npy')\n",
    "test_masks = np.load('/home/mc16/result/test1_seg_06-13-14:46:16.npy')"
   ]
  },
  {
   "cell_type": "code",
   "execution_count": 4,
   "metadata": {
    "collapsed": false,
    "scrolled": true
   },
   "outputs": [
    {
     "name": "stderr",
     "output_type": "stream",
     "text": [
      "/home/mc16/.local/lib/python2.7/site-packages/keras/models.py:282: UserWarning: No training configuration found in save file: the model was *not* compiled. Compile it manually.\n",
      "  warnings.warn('No training configuration found in save file: '\n"
     ]
    }
   ],
   "source": [
    "config_keras_backend(GPU_MEMORY_FRACTION)\n",
    "model = load_model('seg0608.h5')\n",
    "# model = model_from_json(open('/home/mc16/model3/segmodel_structure_1.json').read())\n",
    "# model.load_weights('/home/mc16/model3/segmodel_weights_1.h5')"
   ]
  },
  {
   "cell_type": "markdown",
   "metadata": {},
   "source": [
    "# CRF"
   ]
  },
  {
   "cell_type": "code",
   "execution_count": 11,
   "metadata": {
    "collapsed": true
   },
   "outputs": [],
   "source": [
    "def crf_image(img, model, gdims=(2,3), bdims=(20,100), iteras=1):\n",
    "    img = cv2.resize(img, (DATA_SHAPE, DATA_SHAPE))\n",
    "    score = model.predict(np.expand_dims(img,axis=0))\n",
    "\n",
    "    softmax = score[0].transpose((2, 0, 1)) # [channel,shap,shape]\n",
    "    # The input should be the negative of the logarithm of probability values\n",
    "    # Look up the definition of the softmax_to_unary for more information\n",
    "    unary = unary_from_softmax(softmax)\n",
    "    # The inputs should be C-continious -- we are using Cython wrapper\n",
    "    unary = np.ascontiguousarray(unary)#(2,n)\n",
    "    crf = dcrf.DenseCRF(img.shape[0] * img.shape[1], 2)\n",
    "    crf.setUnaryEnergy(unary)\n",
    "\n",
    "    # This potential penalizes small pieces of segmentation that are\n",
    "    # spatially isolated -- enforces more spatially consistent segmentations\n",
    "    feats = create_pairwise_gaussian(sdims=gdims, shape=img.shape[:2])\n",
    "    crf.addPairwiseEnergy(feats, compat=3, kernel=dcrf.DIAG_KERNEL, normalization=dcrf.NORMALIZE_SYMMETRIC)\n",
    "\n",
    "    # This creates the color-dependent features --\n",
    "    # because the segmentation that we get from CNN are too coarse\n",
    "    # and we can use local color features to refine them\n",
    "    feats = create_pairwise_bilateral(sdims=bdims, schan=(20, 20, 20), img=img, chdim=2)\n",
    "    crf.addPairwiseEnergy(feats, compat=10, kernel=dcrf.DIAG_KERNEL, normalization=dcrf.NORMALIZE_SYMMETRIC)\n",
    "\n",
    "    # mean field iteration\n",
    "    Q = crf.inference(iteras)\n",
    "    \n",
    "    res = np.argmax(Q, axis=0).reshape((img.shape[0], img.shape[1]))\n",
    "    return res    "
   ]
  },
  {
   "cell_type": "code",
   "execution_count": 93,
   "metadata": {
    "collapsed": true
   },
   "outputs": [],
   "source": [
    "def cut_top(mask, frac=0.3):\n",
    "    cut_mask = np.array(mask)\n",
    "    sum_mask = np.sum(mask, axis=1)\n",
    "    cut_top = 0\n",
    "    for i in range(len(sum_mask)):\n",
    "        if sum_mask[i] > 5:\n",
    "            cut_top = i\n",
    "            break\n",
    "    cut_down = cut_top + int((224 - cut_top) * frac)\n",
    "    cut_mask[:cut_down,:] = 0\n",
    "    return cut_mask\n",
    "\n",
    "def cut_shit(mask, num, frac=0.7):\n",
    "    cut_mask = np.array(mask)\n",
    "    for j in range(224):\n",
    "        for i in range(223-num):\n",
    "            if np.sum(cut_mask[j, i:i+num]) > num*frac:\n",
    "                cut_L = i + int(num * (1 - frac) / 2)\n",
    "                cut_R = i + int(num * (1 + frac) / 2)\n",
    "                cut_mask[j, cut_L:cut_R] = 0\n",
    "    return cut_mask"
   ]
  },
  {
   "cell_type": "code",
   "execution_count": 95,
   "metadata": {
    "collapsed": false,
    "scrolled": true
   },
   "outputs": [
    {
     "name": "stdout",
     "output_type": "stream",
     "text": [
      "44\n"
     ]
    },
    {
     "data": {
      "image/png": "[encoded data removed]",
      "text/plain": [
       "<Figure size 2160x2160 with 4 Axes>"
      ]
     },
     "metadata": {},
     "output_type": "display_data"
    }
   ],
   "source": [
    "test_index = random.randint(0, len(val_labels))\n",
    "# test_index = 1820\n",
    "print(test_index)\n",
    "test_img = val_images[test_index]\n",
    "test_label = val_labels[test_index,:,:,1]\n",
    "test_mask = val_masks[test_index]\n",
    "test_crf = crf_image(test_img, model, gdims=(3,3), bdims=(7,7), iteras=1)\n",
    "cut_mask = cut_shit(test_crf, 30)\n",
    "fig, axs = plt.subplots(1, 4, figsize=(30,30)) \n",
    "axs[0].imshow(test_label,cmap='gray')\n",
    "axs[1].imshow(test_mask,cmap='gray')\n",
    "axs[2].imshow(test_crf,cmap='gray')\n",
    "axs[3].imshow(cut_mask,cmap='gray')\n",
    "plt.show()"
   ]
  },
  {
   "cell_type": "markdown",
   "metadata": {},
   "source": [
    "# Cluster & CRF"
   ]
  },
  {
   "cell_type": "code",
   "execution_count": 120,
   "metadata": {
    "collapsed": false,
    "scrolled": true
   },
   "outputs": [
    {
     "name": "stdout",
     "output_type": "stream",
     "text": [
      "(733, 8)\n"
     ]
    },
    {
     "data": {
      "image/png": "[encoded data removed]",
      "text/plain": [
       "<Figure size 2160x2160 with 4 Axes>"
      ]
     },
     "metadata": {},
     "output_type": "display_data"
    }
   ],
   "source": [
    "from sklearn.cluster import DBSCAN\n",
    "\n",
    "def matrix_to_point(matrix):\n",
    "    points = []\n",
    "    for x in range(matrix.shape[0]):\n",
    "        for y in range(matrix.shape[1]):\n",
    "            if(matrix[x][y] == 1):\n",
    "                points.append([x, y])\n",
    "    return np.array(points, dtype=np.uint8)\n",
    "\n",
    "def get_cluster_points(points, EPS = 1.5, MIN_SAMPLES = 3, minN=20):\n",
    "    if len(points) == 0: \n",
    "        cluster_points = []\n",
    "    else:\n",
    "        arpoints = np.array(points, dtype=np.uint8)\n",
    "        cluster_label = DBSCAN(eps=EPS, min_samples=MIN_SAMPLES).fit_predict(arpoints)\n",
    "        max_label = np.max(cluster_label)\n",
    "        cluster_points = []\n",
    "        for label in range(-1, max_label+1):\n",
    "            label_index = np.where(cluster_label == label)\n",
    "            if(len(label_index[0]) > minN):\n",
    "                cluster_points.append(arpoints[label_index])\n",
    "    return np.array(cluster_points)\n",
    "\n",
    "def cluster_to_img(cluster_points, shape):\n",
    "    pic = np.zeros((shape, shape), np.uint8)\n",
    "    num_label = cluster_points.shape[0]\n",
    "    for i in range(num_label):\n",
    "        for point in cluster_points[i]:\n",
    "            pic[point[0], point[1]] = 50 + i * int((255 - 50) / num_label) \n",
    "    return pic\n",
    "\n",
    "# test_index = random.randint(0, len(val_labels))\n",
    "test_index = 733\n",
    "test_label = val_labels[test_index,:,:,1]\n",
    "test_image = val_images[test_index]\n",
    "test_crf = crf_image(test_image, model, gdims=(3,3), bdims=(7,7), iteras=1)\n",
    "test_cut = cut_shit(test_crf, 40, frac=0.63)\n",
    "points_data = matrix_to_point(test_cut)\n",
    "clusters = get_cluster_points(points_data, EPS = 1.9, MIN_SAMPLES = 3, minN=50)\n",
    "cluster_img = cluster_to_img(clusters, DATA_SHAPE)\n",
    "print(test_index, len(clusters))\n",
    "fig, axs = plt.subplots(1, 4, figsize=(30,30)) \n",
    "axs[0].imshow(test_label,cmap='gray')\n",
    "axs[1].imshow(test_crf,cmap='gray')\n",
    "axs[2].imshow(test_cut,cmap='gray')\n",
    "axs[3].imshow(cluster_img,cmap='gray')\n",
    "plt.show()"
   ]
  },
  {
   "cell_type": "markdown",
   "metadata": {},
   "source": [
    "# Save json"
   ]
  },
  {
   "cell_type": "code",
   "execution_count": 121,
   "metadata": {
    "collapsed": false
   },
   "outputs": [
    {
     "name": "stderr",
     "output_type": "stream",
     "text": [
      "100%|██████████| 2015/2015 [12:51<00:00,  2.61it/s]\n",
      "100%|██████████| 2034/2034 [13:01<00:00,  2.60it/s]\n"
     ]
    }
   ],
   "source": [
    "def cut_cluster_lines(mask_list):\n",
    "    result = []\n",
    "    for mask in tqdm(mask_list):\n",
    "        cut_mask = cut_shit(mask, 30, frac=0.6)\n",
    "        points_data = matrix_to_point(cut_mask)\n",
    "        clusters = get_cluster_points(points_data, EPS = 3., MIN_SAMPLES = 3, minN=50)\n",
    "        result.append(clusters)\n",
    "    return result\n",
    "\n",
    "val_clusters = cut_cluster_lines(val_masks)\n",
    "test_clusters = cut_cluster_lines(test_masks)"
   ]
  },
  {
   "cell_type": "code",
   "execution_count": 122,
   "metadata": {
    "collapsed": true
   },
   "outputs": [],
   "source": [
    "import datetime\n",
    "TIMEFORMAT = '%m-%d-%H:%M:%S'\n",
    "time = datetime.datetime.now().strftime(TIMEFORMAT)\n",
    "np.save(\"/home/mc16/result/val_cluster_%s.npy\"%time, val_clusters)\n",
    "time = datetime.datetime.now().strftime(TIMEFORMAT)\n",
    "np.save(\"/home/mc16/result/test1_cluster_%s.npy\"%time, test_clusters)"
   ]
  },
  {
   "cell_type": "code",
   "execution_count": 119,
   "metadata": {
    "collapsed": false
   },
   "outputs": [
    {
     "name": "stderr",
     "output_type": "stream",
     "text": [
      "2015it [00:06, 300.74it/s]\n"
     ]
    }
   ],
   "source": [
    "import json\n",
    "def np2json(arlines):\n",
    "    json_lines = []\n",
    "    for arline in arlines:\n",
    "        json_line = []\n",
    "        for point in arline:\n",
    "            json_line.append({\"x\":int(point[1]), \"y\":int(point[0])})\n",
    "        json_lines.append(json_line)\n",
    "    return {\"Lanes\": json_lines}\n",
    "\n",
    "def save_jsons(lines_list, list_path, json_path):\n",
    "    test_md5_paths = open(list_path, 'r').readlines()\n",
    "    for i, lines in tqdm(enumerate(lines_list)):\n",
    "        md5 = test_md5_paths[i].split('.')[0]\n",
    "        lines_json = np2json(lines)\n",
    "        lines_str = json.dumps(lines_json)\n",
    "        file = open(json_path + '%s.json'%md5,'w')\n",
    "        file.write(lines_str)\n",
    "        file.close()\n",
    "        \n",
    "# test_list_path = '/home/mc16/test0_list.txt'\n",
    "# test_json_path = '/home/mc16/result_json/results/'\n",
    "# save_jsons(test_lines, test_list_path, test_json_path)\n",
    "\n",
    "val_list_path = '/data/mc_data/MLDC/data/val/list.txt'\n",
    "val_json_path = '/home/mc16/result_json/val_results/'\n",
    "save_jsons(val_clusters, val_list_path, val_json_path)"
   ]
  }
 ],
 "metadata": {
  "anaconda-cloud": {},
  "kernelspec": {
   "display_name": "Python [default]",
   "language": "python",
   "name": "python2"
  },
  "language_info": {
   "codemirror_mode": {
    "name": "ipython",
    "version": 2
   },
   "file_extension": ".py",
   "mimetype": "text/x-python",
   "name": "python",
   "nbconvert_exporter": "python",
   "pygments_lexer": "ipython2",
   "version": "2.7.12"
  }
 },
 "nbformat": 4,
 "nbformat_minor": 1
}
