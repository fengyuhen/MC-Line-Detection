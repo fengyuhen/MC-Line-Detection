{
 "cells": [
  {
   "cell_type": "code",
   "execution_count": 1,
   "metadata": {
    "collapsed": false,
    "scrolled": true
   },
   "outputs": [
    {
     "name": "stderr",
     "output_type": "stream",
     "text": [
      "Using TensorFlow backend.\n"
     ]
    },
    {
     "name": "stdout",
     "output_type": "stream",
     "text": [
      "********** loading labels **********\n",
      "********** loading images **********\n",
      "********** building model **********\n",
      "********** training... **********\n",
      "Train on 20000 samples, validate on 2015 samples\n",
      "Epoch 1/20\n",
      "20000/20000 [==============================] - 103s 5ms/step - loss: 0.9514 - acc: 0.5521 - val_loss: 0.9041 - val_acc: 0.6629\n",
      "Epoch 2/20\n",
      "20000/20000 [==============================] - 86s 4ms/step - loss: 0.8361 - acc: 0.6499 - val_loss: 0.7870 - val_acc: 0.8129\n",
      "Epoch 3/20\n",
      "20000/20000 [==============================] - 88s 4ms/step - loss: 0.7781 - acc: 0.7104 - val_loss: 0.7613 - val_acc: 0.8077\n",
      "Epoch 4/20\n",
      "20000/20000 [==============================] - 89s 4ms/step - loss: 0.7297 - acc: 0.7553 - val_loss: 0.7185 - val_acc: 0.8354\n",
      "Epoch 5/20\n",
      "20000/20000 [==============================] - 88s 4ms/step - loss: 0.6893 - acc: 0.7872 - val_loss: 0.7057 - val_acc: 0.7536\n",
      "Epoch 6/20\n",
      "20000/20000 [==============================] - 87s 4ms/step - loss: 0.6530 - acc: 0.8124 - val_loss: 0.6473 - val_acc: 0.8350\n",
      "Epoch 7/20\n",
      "20000/20000 [==============================] - 87s 4ms/step - loss: 0.6208 - acc: 0.8321 - val_loss: 0.6417 - val_acc: 0.8181\n",
      "Epoch 8/20\n",
      "20000/20000 [==============================] - 86s 4ms/step - loss: 0.5927 - acc: 0.8473 - val_loss: 0.6102 - val_acc: 0.8443\n",
      "Epoch 9/20\n",
      "20000/20000 [==============================] - 88s 4ms/step - loss: 0.5693 - acc: 0.8591 - val_loss: 0.5828 - val_acc: 0.8917\n",
      "Epoch 10/20\n",
      "20000/20000 [==============================] - 88s 4ms/step - loss: 0.5478 - acc: 0.8688 - val_loss: 0.5876 - val_acc: 0.8971\n",
      "Epoch 11/20\n",
      "20000/20000 [==============================] - 88s 4ms/step - loss: 0.5297 - acc: 0.8765 - val_loss: 0.5715 - val_acc: 0.8593\n",
      "Epoch 12/20\n",
      "20000/20000 [==============================] - 89s 4ms/step - loss: 0.5146 - acc: 0.8825 - val_loss: 0.5416 - val_acc: 0.9062\n",
      "Epoch 13/20\n",
      "20000/20000 [==============================] - 87s 4ms/step - loss: 0.5010 - acc: 0.8875 - val_loss: 0.5803 - val_acc: 0.8326\n",
      "Epoch 14/20\n",
      "20000/20000 [==============================] - 88s 4ms/step - loss: 0.4892 - acc: 0.8914 - val_loss: 0.5486 - val_acc: 0.8802\n",
      "Epoch 15/20\n",
      "20000/20000 [==============================] - 88s 4ms/step - loss: 0.4766 - acc: 0.8952 - val_loss: 0.5305 - val_acc: 0.9154\n",
      "Epoch 16/20\n",
      "20000/20000 [==============================] - 89s 4ms/step - loss: 0.4682 - acc: 0.8979 - val_loss: 0.5288 - val_acc: 0.9036\n",
      "Epoch 17/20\n",
      "20000/20000 [==============================] - 89s 4ms/step - loss: 0.4583 - acc: 0.9004 - val_loss: 0.5396 - val_acc: 0.8832\n",
      "Epoch 18/20\n",
      "20000/20000 [==============================] - 88s 4ms/step - loss: 0.4524 - acc: 0.9024 - val_loss: 0.5193 - val_acc: 0.9063\n",
      "Epoch 19/20\n",
      "20000/20000 [==============================] - 87s 4ms/step - loss: 0.4461 - acc: 0.9039 - val_loss: 0.5162 - val_acc: 0.9074\n",
      "Epoch 20/20\n",
      "20000/20000 [==============================] - 89s 4ms/step - loss: 0.4388 - acc: 0.9059 - val_loss: 0.5362 - val_acc: 0.9259\n",
      "********** saveing mdoel **********\n"
     ]
    }
   ],
   "source": [
    "import numpy as np\n",
    "import tensorflow as tf\n",
    "from keras import layers, Input, Model, Sequential, optimizers\n",
    "from keras.layers import Reshape, Merge, Lambda\n",
    "from keras.layers import Layer, Dense, Dropout, Activation, Flatten, Reshape, Permute\n",
    "from keras.layers import BatchNormalization\n",
    "from keras.layers import Conv2D, MaxPooling2D, UpSampling2D, ZeroPadding2D\n",
    "from keras.optimizers import Adam, SGD\n",
    "from keras.preprocessing import image\n",
    "import keras.backend as K\n",
    "from keras.engine import Layer\n",
    "from keras.utils import multi_gpu_model, np_utils\n",
    "from keras.callbacks import EarlyStopping, ModelCheckpoint\n",
    "\n",
    "#checkpoint = ModelCheckpoint('seg.h5', monitor='val_loss', verbose=1, save_best_only=True, mode='max')\n",
    "#earlystop = EarlyStopping(monitor='val_loss', patience=5, mode='max')\n",
    "#callback_list = [earlystop]\n",
    "\n",
    "GPU_MEMORY_FRACTION = 1.0\n",
    "DATA_SHAPE = 224\n",
    "# hyparameters to tune\n",
    "BATCH_SIZE = 240\n",
    "LEARNING_RATE = 1e-4\n",
    "EPOCHS = 20\n",
    "CLASS_WEIGHT = np.array([1,20])\n",
    "\n",
    "def segnet(shape=224):\n",
    "    kernel = 3\n",
    "    filter_size = 64\n",
    "    pad = 1\n",
    "    pool_size = 2\n",
    "    model = Sequential()\n",
    "    model.add(Layer(input_shape=(shape , shape ,3)))\n",
    "    # encoder\n",
    "    model.add(ZeroPadding2D(padding=(pad,pad)))\n",
    "    model.add(Conv2D(filter_size, (kernel, kernel), padding='valid'))\n",
    "    model.add(BatchNormalization())\n",
    "    model.add(Activation('relu'))\n",
    "    model.add(MaxPooling2D(pool_size=(pool_size, pool_size)))\n",
    "    model.add(ZeroPadding2D(padding=(pad,pad)))\n",
    "    model.add(Conv2D(128, (kernel, kernel), padding='valid'))\n",
    "    model.add(BatchNormalization())\n",
    "    model.add(Activation('relu'))\n",
    "    model.add(MaxPooling2D(pool_size=(pool_size, pool_size)))\n",
    "    model.add(ZeroPadding2D(padding=(pad,pad)))\n",
    "    model.add(Conv2D(256, (kernel, kernel), padding='valid'))\n",
    "    model.add(BatchNormalization())\n",
    "    model.add(Activation('relu'))\n",
    "    model.add(MaxPooling2D(pool_size=(pool_size, pool_size)))\n",
    "    model.add(ZeroPadding2D(padding=(pad,pad)))\n",
    "    model.add(Conv2D(512, (kernel, kernel), padding='valid'))\n",
    "    model.add(BatchNormalization())\n",
    "    model.add(Activation('relu'))\n",
    "    # decoder\n",
    "    model.add( ZeroPadding2D(padding=(pad,pad)))\n",
    "    model.add( Conv2D(512, (kernel, kernel), padding='valid'))\n",
    "    model.add( BatchNormalization())\n",
    "    model.add( UpSampling2D(size=(pool_size,pool_size)))\n",
    "    model.add( ZeroPadding2D(padding=(pad,pad)))\n",
    "    model.add( Conv2D(256, (kernel, kernel), padding='valid'))\n",
    "    model.add( BatchNormalization())\n",
    "    model.add( UpSampling2D(size=(pool_size,pool_size)))\n",
    "    model.add( ZeroPadding2D(padding=(pad,pad)))\n",
    "    model.add( Conv2D(128, (kernel, kernel), padding='valid'))\n",
    "    model.add( BatchNormalization())\n",
    "    model.add( UpSampling2D(size=(pool_size,pool_size)))\n",
    "    model.add( ZeroPadding2D(padding=(pad,pad)))\n",
    "    model.add( Conv2D(filter_size, (kernel, kernel), padding='valid'))\n",
    "    model.add( BatchNormalization())\n",
    "    model.add(Conv2D(2, (1, 1), padding='valid',))\n",
    "    model.outputHeight = model.output_shape[-2]\n",
    "    model.outputWidth = model.output_shape[-3] \n",
    "    model.add(Activation('softmax'))\n",
    "    return model\n",
    "\n",
    "def config_keras_backend(fraction):\n",
    "    config = tf.ConfigProto()\n",
    "    config.gpu_options.allow_growth = True\n",
    "    config.gpu_options.per_process_gpu_memory_fraction = fraction \n",
    "    sess = tf.Session(config=config)\n",
    "    K.set_session(sess)\n",
    "    \n",
    "def weighted_categorical_crossentropy(weights):\n",
    "    weights = K.variable(weights)\n",
    "    def loss(y_true, y_pred):\n",
    "        y_pred /= K.sum(y_pred, axis=-1, keepdims=True)\n",
    "        y_pred = K.clip(y_pred, K.epsilon(), 1 - K.epsilon())\n",
    "        loss = y_true * K.log(y_pred) * weights\n",
    "        loss = -K.sum(loss, -1)\n",
    "        return loss\n",
    "    return loss\n",
    "    \n",
    "    \n",
    "if __name__ == '__main__':\n",
    "    print(\"********** loading labels **********\")\n",
    "    train_labels = np.load('/home/mc16/pre_data/train_label_%s.npy'%DATA_SHAPE)\n",
    "    val_labels = np.load('/home/mc16/pre_data/val_label_%s.npy'%DATA_SHAPE)\n",
    "    \n",
    "    print(\"********** loading images **********\")\n",
    "    train_images = np.load('/home/mc16/pre_data/train_image_%s.npy'%DATA_SHAPE)\n",
    "    val_images = np.load('/home/mc16/pre_data/val_image_%s.npy'%DATA_SHAPE)\n",
    "    \n",
    "    print(\"********** building model **********\")\n",
    "    config_keras_backend(GPU_MEMORY_FRACTION)\n",
    "    seg = segnet(DATA_SHAPE)\n",
    "    parallel_seg = multi_gpu_model(seg,gpus=8)\n",
    "    \n",
    "    print('********** training... **********')\n",
    "    loss = weighted_categorical_crossentropy(CLASS_WEIGHT)\n",
    "    adam = Adam(lr=LEARNING_RATE)\n",
    "    parallel_seg.compile(loss=loss, optimizer=adam, metrics=['accuracy'])\n",
    "    parallel_seg.fit(x = train_images, \n",
    "                         y = train_labels,\n",
    "                         batch_size = BATCH_SIZE,\n",
    "                         epochs = EPOCHS,\n",
    "                         verbose = 1,\n",
    "                         validation_data = (val_images, val_labels),\n",
    "                         shuffle = True)\n",
    "    print('********** saveing mdoel **********')\n",
    "    seg.save('seg_1.h5')"
   ]
  },
  {
   "cell_type": "code",
   "execution_count": 4,
   "metadata": {
    "collapsed": false
   },
   "outputs": [
    {
     "name": "stderr",
     "output_type": "stream",
     "text": [
      "Using TensorFlow backend.\n"
     ]
    },
    {
     "ename": "InternalError",
     "evalue": "Failed to create session.",
     "output_type": "error",
     "traceback": [
      "\u001b[0;31m---------------------------------------------------------------------------\u001b[0m",
      "\u001b[0;31mInternalError\u001b[0m                             Traceback (most recent call last)",
      "\u001b[0;32m<ipython-input-4-59635718e379>\u001b[0m in \u001b[0;36m<module>\u001b[0;34m()\u001b[0m\n\u001b[1;32m     17\u001b[0m     \u001b[0mK\u001b[0m\u001b[0;34m.\u001b[0m\u001b[0mset_session\u001b[0m\u001b[0;34m(\u001b[0m\u001b[0msess\u001b[0m\u001b[0;34m)\u001b[0m\u001b[0;34m\u001b[0m\u001b[0m\n\u001b[1;32m     18\u001b[0m \u001b[0;34m\u001b[0m\u001b[0m\n\u001b[0;32m---> 19\u001b[0;31m \u001b[0mconfig_keras_backend\u001b[0m\u001b[0;34m(\u001b[0m\u001b[0mGPU_MEMORY_FRACTION\u001b[0m\u001b[0;34m)\u001b[0m\u001b[0;34m\u001b[0m\u001b[0m\n\u001b[0m\u001b[1;32m     20\u001b[0m \u001b[0mmodel\u001b[0m \u001b[0;34m=\u001b[0m \u001b[0mload_model\u001b[0m\u001b[0;34m(\u001b[0m\u001b[0;34m'seg0608.h5'\u001b[0m\u001b[0;34m)\u001b[0m\u001b[0;34m\u001b[0m\u001b[0m\n\u001b[1;32m     21\u001b[0m \u001b[0;34m\u001b[0m\u001b[0m\n",
      "\u001b[0;32m<ipython-input-4-59635718e379>\u001b[0m in \u001b[0;36mconfig_keras_backend\u001b[0;34m(fraction)\u001b[0m\n\u001b[1;32m     14\u001b[0m     \u001b[0mconfig\u001b[0m\u001b[0;34m.\u001b[0m\u001b[0mgpu_options\u001b[0m\u001b[0;34m.\u001b[0m\u001b[0mallow_growth\u001b[0m \u001b[0;34m=\u001b[0m \u001b[0mTrue\u001b[0m\u001b[0;34m\u001b[0m\u001b[0m\n\u001b[1;32m     15\u001b[0m     \u001b[0mconfig\u001b[0m\u001b[0;34m.\u001b[0m\u001b[0mgpu_options\u001b[0m\u001b[0;34m.\u001b[0m\u001b[0mper_process_gpu_memory_fraction\u001b[0m \u001b[0;34m=\u001b[0m \u001b[0mfraction\u001b[0m\u001b[0;34m\u001b[0m\u001b[0m\n\u001b[0;32m---> 16\u001b[0;31m     \u001b[0msess\u001b[0m \u001b[0;34m=\u001b[0m \u001b[0mtf\u001b[0m\u001b[0;34m.\u001b[0m\u001b[0mSession\u001b[0m\u001b[0;34m(\u001b[0m\u001b[0mconfig\u001b[0m\u001b[0;34m=\u001b[0m\u001b[0mconfig\u001b[0m\u001b[0;34m)\u001b[0m\u001b[0;34m\u001b[0m\u001b[0m\n\u001b[0m\u001b[1;32m     17\u001b[0m     \u001b[0mK\u001b[0m\u001b[0;34m.\u001b[0m\u001b[0mset_session\u001b[0m\u001b[0;34m(\u001b[0m\u001b[0msess\u001b[0m\u001b[0;34m)\u001b[0m\u001b[0;34m\u001b[0m\u001b[0m\n\u001b[1;32m     18\u001b[0m \u001b[0;34m\u001b[0m\u001b[0m\n",
      "\u001b[0;32m/home/mc16/.local/lib/python2.7/site-packages/tensorflow/python/client/session.pyc\u001b[0m in \u001b[0;36m__init__\u001b[0;34m(self, target, graph, config)\u001b[0m\n\u001b[1;32m   1558\u001b[0m \u001b[0;34m\u001b[0m\u001b[0m\n\u001b[1;32m   1559\u001b[0m     \"\"\"\n\u001b[0;32m-> 1560\u001b[0;31m     \u001b[0msuper\u001b[0m\u001b[0;34m(\u001b[0m\u001b[0mSession\u001b[0m\u001b[0;34m,\u001b[0m \u001b[0mself\u001b[0m\u001b[0;34m)\u001b[0m\u001b[0;34m.\u001b[0m\u001b[0m__init__\u001b[0m\u001b[0;34m(\u001b[0m\u001b[0mtarget\u001b[0m\u001b[0;34m,\u001b[0m \u001b[0mgraph\u001b[0m\u001b[0;34m,\u001b[0m \u001b[0mconfig\u001b[0m\u001b[0;34m=\u001b[0m\u001b[0mconfig\u001b[0m\u001b[0;34m)\u001b[0m\u001b[0;34m\u001b[0m\u001b[0m\n\u001b[0m\u001b[1;32m   1561\u001b[0m     \u001b[0;31m# NOTE(mrry): Create these on first `__enter__` to avoid a reference cycle.\u001b[0m\u001b[0;34m\u001b[0m\u001b[0;34m\u001b[0m\u001b[0m\n\u001b[1;32m   1562\u001b[0m     \u001b[0mself\u001b[0m\u001b[0;34m.\u001b[0m\u001b[0m_default_graph_context_manager\u001b[0m \u001b[0;34m=\u001b[0m \u001b[0mNone\u001b[0m\u001b[0;34m\u001b[0m\u001b[0m\n",
      "\u001b[0;32m/home/mc16/.local/lib/python2.7/site-packages/tensorflow/python/client/session.pyc\u001b[0m in \u001b[0;36m__init__\u001b[0;34m(self, target, graph, config)\u001b[0m\n\u001b[1;32m    631\u001b[0m       \u001b[0;32mif\u001b[0m \u001b[0mself\u001b[0m\u001b[0;34m.\u001b[0m\u001b[0m_created_with_new_api\u001b[0m\u001b[0;34m:\u001b[0m\u001b[0;34m\u001b[0m\u001b[0m\n\u001b[1;32m    632\u001b[0m         \u001b[0;31m# pylint: disable=protected-access\u001b[0m\u001b[0;34m\u001b[0m\u001b[0;34m\u001b[0m\u001b[0m\n\u001b[0;32m--> 633\u001b[0;31m         \u001b[0mself\u001b[0m\u001b[0;34m.\u001b[0m\u001b[0m_session\u001b[0m \u001b[0;34m=\u001b[0m \u001b[0mtf_session\u001b[0m\u001b[0;34m.\u001b[0m\u001b[0mTF_NewSession\u001b[0m\u001b[0;34m(\u001b[0m\u001b[0mself\u001b[0m\u001b[0;34m.\u001b[0m\u001b[0m_graph\u001b[0m\u001b[0;34m.\u001b[0m\u001b[0m_c_graph\u001b[0m\u001b[0;34m,\u001b[0m \u001b[0mopts\u001b[0m\u001b[0;34m)\u001b[0m\u001b[0;34m\u001b[0m\u001b[0m\n\u001b[0m\u001b[1;32m    634\u001b[0m         \u001b[0;31m# pylint: enable=protected-access\u001b[0m\u001b[0;34m\u001b[0m\u001b[0;34m\u001b[0m\u001b[0m\n\u001b[1;32m    635\u001b[0m       \u001b[0;32melse\u001b[0m\u001b[0;34m:\u001b[0m\u001b[0;34m\u001b[0m\u001b[0m\n",
      "\u001b[0;31mInternalError\u001b[0m: Failed to create session."
     ]
    }
   ],
   "source": [
    "import cv2\n",
    "import os\n",
    "import matplotlib.pyplot as plt\n",
    "from tqdm import tqdm\n",
    "import tensorflow as tf\n",
    "import random\n",
    "from keras.models import model_from_json\n",
    "from keras.models import load_model\n",
    "import keras.backend as K\n",
    "\n",
    "GPU_MEMORY_FRACTION = 0.05\n",
    "def config_keras_backend(fraction):\n",
    "    config = tf.ConfigProto()\n",
    "    config.gpu_options.allow_growth = True\n",
    "    config.gpu_options.per_process_gpu_memory_fraction = fraction \n",
    "    sess = tf.Session(config=config)\n",
    "    K.set_session(sess)\n",
    "    \n",
    "config_keras_backend(GPU_MEMORY_FRACTION)\n",
    "model = load_model('seg0608.h5')\n",
    "\n",
    "import pydensecrf.densecrf as dcrf\n",
    "from pydensecrf.utils import compute_unary, create_pairwise_bilateral, create_pairwise_gaussian, unary_from_softmax\n",
    "\n",
    "def crf_image(img, model):\n",
    "    img = cv2.resize(img, (DATA_SHAPE, DATA_SHAPE))\n",
    "    score = model.predict(np.expand_dims(img,axis=0))\n",
    "    softmax = score[0].transpose((2, 0, 1)) # [channel,shap,shape]\n",
    "    # The input should be the negative of the logarithm of probability values\n",
    "    # Look up the definition of the softmax_to_unary for more information\n",
    "    unary = unary_from_softmax(softmax)\n",
    "    # The inputs should be C-continious -- we are using Cython wrapper\n",
    "    unary = np.ascontiguousarray(unary)#(2,n)\n",
    "    crf = dcrf.DenseCRF(img.shape[0] * img.shape[1], 2)\n",
    "    crf.setUnaryEnergy(unary)\n",
    "\n",
    "    # This potential penalizes small pieces of segmentation that are\n",
    "    # spatially isolated -- enforces more spatially consistent segmentations\n",
    "    feats = create_pairwise_gaussian(sdims=(3,5), shape=img.shape[:2])\n",
    "    crf.addPairwiseEnergy(feats, compat=3, kernel=dcrf.DIAG_KERNEL, normalization=dcrf.NORMALIZE_SYMMETRIC)\n",
    "\n",
    "    # This creates the color-dependent features --\n",
    "    # because the segmentation that we get from CNN are too coarse\n",
    "    # and we can use local color features to refine them\n",
    "    feats = create_pairwise_bilateral(sdims=(50,50), schan=(20, 20, 20), img=img, chdim=2)\n",
    "    crf.addPairwiseEnergy(feats, compat=10, kernel=dcrf.DIAG_KERNEL, normalization=dcrf.NORMALIZE_SYMMETRIC)\n",
    "\n",
    "    # mean field iteration\n",
    "    Q = crf.inference(1)\n",
    "    \n",
    "    res = np.argmax(Q, axis=0).reshape((img.shape[0], img.shape[1]))\n",
    "    return res    "
   ]
  },
  {
   "cell_type": "code",
   "execution_count": null,
   "metadata": {
    "collapsed": true
   },
   "outputs": [],
   "source": []
  },
  {
   "cell_type": "code",
   "execution_count": 50,
   "metadata": {
    "collapsed": false
   },
   "outputs": [
    {
     "name": "stderr",
     "output_type": "stream",
     "text": [
      "2015it [00:00, 246997.77it/s]\n"
     ]
    }
   ],
   "source": [
    "import random\n",
    "import numpy as np\n",
    "\n",
    "def read_paths(dataset_path, list_path):\n",
    "    imagepaths = []\n",
    "    labelpaths = []\n",
    "    for path in tqdm(open(list_path)):\n",
    "        md5 = path.split('.')[0]\n",
    "        imagepaths.append(dataset_path + \"images/%s.jpg\"%md5)\n",
    "        labelpaths.append(dataset_path + \"spline_labels/%s.json\"%md5)\n",
    "    return imagepaths, labelpaths\n",
    "\n",
    "# detect points for one image\n",
    "def detect_points(img, model, shape):\n",
    "    img = cv2.resize(img, (shape,shape))\n",
    "    img = np.expand_dims(img,axis=0)\n",
    "    points_logist = model.predict(img)\n",
    "    points = np.argmax(points_logist, axis=-1)\n",
    "    return points[0]\n",
    "\n",
    "val_set_path = '/data/mc_data/MLDC/data/val/'\n",
    "val_list_path = '/data/mc_data/MLDC/data/val/list.txt'\n",
    "val_image_paths, val_label_paths = read_paths(val_set_path, val_list_path)\n"
   ]
  },
  {
   "cell_type": "code",
   "execution_count": 51,
   "metadata": {
    "collapsed": false
   },
   "outputs": [],
   "source": [
    "DATA_SHAPE = 224\n",
    "train_labels = np.load('/home/mc16/pre_data/train_label_%s.npy'%DATA_SHAPE)\n",
    "val_labels = np.load('/home/mc16/pre_data/val_label_%s.npy'%DATA_SHAPE)\n",
    "train_images = np.load('/home/mc16/pre_data/train_image_%s.npy'%DATA_SHAPE)\n",
    "val_images = np.load('/home/mc16/pre_data/val_image_%s.npy'%DATA_SHAPE)"
   ]
  },
  {
   "cell_type": "code",
   "execution_count": 3,
   "metadata": {
    "collapsed": false
   },
   "outputs": [
    {
     "ename": "NameError",
     "evalue": "name 'random' is not defined",
     "output_type": "error",
     "traceback": [
      "\u001b[0;31m---------------------------------------------------------------------------\u001b[0m",
      "\u001b[0;31mNameError\u001b[0m                                 Traceback (most recent call last)",
      "\u001b[0;32m<ipython-input-3-a995c00f7c13>\u001b[0m in \u001b[0;36m<module>\u001b[0;34m()\u001b[0m\n\u001b[0;32m----> 1\u001b[0;31m \u001b[0mtest_index\u001b[0m \u001b[0;34m=\u001b[0m \u001b[0mrandom\u001b[0m\u001b[0;34m.\u001b[0m\u001b[0mrandint\u001b[0m\u001b[0;34m(\u001b[0m\u001b[0;36m0\u001b[0m\u001b[0;34m,\u001b[0m \u001b[0mlen\u001b[0m\u001b[0;34m(\u001b[0m\u001b[0mval_labels\u001b[0m\u001b[0;34m)\u001b[0m\u001b[0;34m)\u001b[0m\u001b[0;34m\u001b[0m\u001b[0m\n\u001b[0m\u001b[1;32m      2\u001b[0m \u001b[0;31m# test_index = 100\u001b[0m\u001b[0;34m\u001b[0m\u001b[0;34m\u001b[0m\u001b[0m\n\u001b[1;32m      3\u001b[0m \u001b[0mtest_label\u001b[0m \u001b[0;34m=\u001b[0m \u001b[0mval_labels\u001b[0m\u001b[0;34m[\u001b[0m\u001b[0mtest_index\u001b[0m\u001b[0;34m,\u001b[0m\u001b[0;34m:\u001b[0m\u001b[0;34m,\u001b[0m\u001b[0;34m:\u001b[0m\u001b[0;34m,\u001b[0m\u001b[0;36m1\u001b[0m\u001b[0;34m]\u001b[0m\u001b[0;34m\u001b[0m\u001b[0m\n\u001b[1;32m      4\u001b[0m \u001b[0mtest_img\u001b[0m \u001b[0;34m=\u001b[0m \u001b[0mplt\u001b[0m\u001b[0;34m.\u001b[0m\u001b[0mimread\u001b[0m\u001b[0;34m(\u001b[0m\u001b[0mval_image_paths\u001b[0m\u001b[0;34m[\u001b[0m\u001b[0mtest_index\u001b[0m\u001b[0;34m]\u001b[0m\u001b[0;34m)\u001b[0m\u001b[0;34m\u001b[0m\u001b[0m\n\u001b[1;32m      5\u001b[0m \u001b[0mtest_img\u001b[0m \u001b[0;34m=\u001b[0m \u001b[0mcv2\u001b[0m\u001b[0;34m.\u001b[0m\u001b[0mresize\u001b[0m\u001b[0;34m(\u001b[0m\u001b[0mtest_img\u001b[0m\u001b[0;34m,\u001b[0m\u001b[0;34m(\u001b[0m\u001b[0mDATA_SHAPE\u001b[0m\u001b[0;34m,\u001b[0m\u001b[0mDATA_SHAPE\u001b[0m\u001b[0;34m)\u001b[0m\u001b[0;34m)\u001b[0m\u001b[0;34m\u001b[0m\u001b[0m\n",
      "\u001b[0;31mNameError\u001b[0m: name 'random' is not defined"
     ]
    }
   ],
   "source": [
    "test_index = random.randint(0, len(val_labels))\n",
    "# test_index = 100\n",
    "test_label = val_labels[test_index,:,:,1]\n",
    "test_img = plt.imread(val_image_paths[test_index])\n",
    "test_img = cv2.resize(test_img,(DATA_SHAPE,DATA_SHAPE))\n",
    "test_mask = crf_image(test_img, model)\n",
    "test_points = detect_points(test_img, model, DATA_SHAPE)\n",
    "fig, axs = plt.subplots(1, 4, figsize=(30,30)) \n",
    "axs[0].imshow(test_img)\n",
    "axs[1].imshow(test_label,cmap='gray')\n",
    "axs[2].imshow(test_points,cmap='gray')\n",
    "axs[3].imshow(test_mask,cmap='gray')\n",
    "plt.show()"
   ]
  },
  {
   "cell_type": "code",
   "execution_count": 2,
   "metadata": {
    "collapsed": false
   },
   "outputs": [
    {
     "ename": "NameError",
     "evalue": "name 'crf_image' is not defined",
     "output_type": "error",
     "traceback": [
      "\u001b[0;31m---------------------------------------------------------------------------\u001b[0m",
      "\u001b[0;31mNameError\u001b[0m                                 Traceback (most recent call last)",
      "\u001b[0;32m<ipython-input-2-c10bdb81845d>\u001b[0m in \u001b[0;36m<module>\u001b[0;34m()\u001b[0m\n\u001b[0;32m----> 1\u001b[0;31m \u001b[0mtest_mask\u001b[0m \u001b[0;34m=\u001b[0m \u001b[0mcrf_image\u001b[0m\u001b[0;34m(\u001b[0m\u001b[0mtest_img\u001b[0m\u001b[0;34m,\u001b[0m \u001b[0mmodel\u001b[0m\u001b[0;34m)\u001b[0m\u001b[0;34m\u001b[0m\u001b[0m\n\u001b[0m\u001b[1;32m      2\u001b[0m \u001b[0mtest_points\u001b[0m \u001b[0;34m=\u001b[0m \u001b[0mdetect_points\u001b[0m\u001b[0;34m(\u001b[0m\u001b[0mtest_img\u001b[0m\u001b[0;34m,\u001b[0m \u001b[0mmodel\u001b[0m\u001b[0;34m,\u001b[0m \u001b[0mDATA_SHAPE\u001b[0m\u001b[0;34m)\u001b[0m\u001b[0;34m\u001b[0m\u001b[0m\n\u001b[1;32m      3\u001b[0m \u001b[0mfig\u001b[0m\u001b[0;34m,\u001b[0m \u001b[0maxs\u001b[0m \u001b[0;34m=\u001b[0m \u001b[0mplt\u001b[0m\u001b[0;34m.\u001b[0m\u001b[0msubplots\u001b[0m\u001b[0;34m(\u001b[0m\u001b[0;36m1\u001b[0m\u001b[0;34m,\u001b[0m \u001b[0;36m4\u001b[0m\u001b[0;34m,\u001b[0m \u001b[0mfigsize\u001b[0m\u001b[0;34m=\u001b[0m\u001b[0;34m(\u001b[0m\u001b[0;36m30\u001b[0m\u001b[0;34m,\u001b[0m\u001b[0;36m30\u001b[0m\u001b[0;34m)\u001b[0m\u001b[0;34m)\u001b[0m\u001b[0;34m\u001b[0m\u001b[0m\n\u001b[1;32m      4\u001b[0m \u001b[0maxs\u001b[0m\u001b[0;34m[\u001b[0m\u001b[0;36m0\u001b[0m\u001b[0;34m]\u001b[0m\u001b[0;34m.\u001b[0m\u001b[0mimshow\u001b[0m\u001b[0;34m(\u001b[0m\u001b[0mtest_img\u001b[0m\u001b[0;34m)\u001b[0m\u001b[0;34m\u001b[0m\u001b[0m\n\u001b[1;32m      5\u001b[0m \u001b[0maxs\u001b[0m\u001b[0;34m[\u001b[0m\u001b[0;36m1\u001b[0m\u001b[0;34m]\u001b[0m\u001b[0;34m.\u001b[0m\u001b[0mimshow\u001b[0m\u001b[0;34m(\u001b[0m\u001b[0mtest_label\u001b[0m\u001b[0;34m,\u001b[0m\u001b[0mcmap\u001b[0m\u001b[0;34m=\u001b[0m\u001b[0;34m'gray'\u001b[0m\u001b[0;34m)\u001b[0m\u001b[0;34m\u001b[0m\u001b[0m\n",
      "\u001b[0;31mNameError\u001b[0m: name 'crf_image' is not defined"
     ]
    }
   ],
   "source": [
    "test_mask = crf_image(test_img, model)\n",
    "test_points = detect_points(test_img, model, DATA_SHAPE)\n",
    "fig, axs = plt.subplots(1, 4, figsize=(30,30)) \n",
    "axs[0].imshow(test_img)\n",
    "axs[1].imshow(test_label,cmap='gray')\n",
    "axs[2].imshow(test_points,cmap='gray')\n",
    "axs[3].imshow(test_mask,cmap='gray')\n",
    "plt.show()"
   ]
  },
  {
   "cell_type": "code",
   "execution_count": 83,
   "metadata": {
    "collapsed": false
   },
   "outputs": [
    {
     "name": "stderr",
     "output_type": "stream",
     "text": [
      "/usr/local/anaconda2/lib/python2.7/site-packages/ipykernel/__main__.py:29: DeprecationWarning: elementwise == comparison failed; this will raise an error in the future.\n"
     ]
    }
   ],
   "source": [
    "import pandas as pd\n",
    "import numpy as np\n",
    "import matplotlib.pyplot as plt\n",
    "from sklearn.cluster import DBSCAN\n",
    "import os\n",
    "import json\n",
    "from tqdm import tqdm\n",
    "import random\n",
    "\n",
    "%matplotlib inline\n",
    "DATA_SHAPE = 224\n",
    "\n",
    "# val_labels = np.load('/home/mc16/pre_data/val_label_%s.npy'%DATA_SHAPE)\n",
    "# val_detect_points = np.load('/home/mc16/result/val_masks_06-11-18:34:58.npy')\n",
    "# test_detect_points = np.load('/home/mc16/result/test_masks_06-11-18:34:33.npy')\n",
    "\n",
    "# points in one image\n",
    "def matrix_to_point(detect_points):\n",
    "    points_list = []\n",
    "    for x in range(detect_points.shape[0]):\n",
    "        for y in range(detect_points.shape[1]):\n",
    "            if(detect_points[x][y] == 1):\n",
    "                points_list.append([x, y])\n",
    "    return np.array(points_list)\n",
    "val_point_data = matrix_to_point(test_points)\n",
    "\n",
    "# cluster in one image\n",
    "def get_cluster_points(points, EPS = 1.5, MIN_SAMPLES = 3):\n",
    "    if points == []: \n",
    "        cluster_points = []\n",
    "    else:\n",
    "        arpoints = np.array(points)\n",
    "        cluster_label = DBSCAN(eps=EPS, min_samples=MIN_SAMPLES).fit_predict(arpoints)\n",
    "        max_label = np.max(cluster_label)\n",
    "        cluster_points = []\n",
    "        for label in range(-1, max_label+1):\n",
    "            label_index = np.where(cluster_label == label)\n",
    "            cluster_points.append(arpoints[label_index])\n",
    "    return cluster_points\n",
    "val_cluster_list = get_cluster_points(val_point_data, EPS = 1.5, MIN_SAMPLES = 3)\n",
    "\n",
    "def cluster_to_img(cluster_points, shape):\n",
    "    pic = np.zeros((shape, shape), np.uint8)\n",
    "    num_label = cluster_points.shape[0]\n",
    "    for i in range(num_label):\n",
    "        for point in cluster_points[i]:\n",
    "            pic[point[0], point[1]] = i * int(255 / num_label)\n",
    "    return pic"
   ]
  },
  {
   "cell_type": "code",
   "execution_count": 80,
   "metadata": {
    "collapsed": false,
    "scrolled": false
   },
   "outputs": [
    {
     "name": "stdout",
     "output_type": "stream",
     "text": [
      "169.0\n",
      "0.87266463\n",
      "171.0\n",
      "0.8901179\n",
      "173.0\n",
      "0.9075712\n",
      "167.0\n",
      "0.8552113\n",
      "175.0\n",
      "0.9250245\n",
      "165.0\n",
      "0.83775806\n",
      "163.0\n",
      "0.82030475\n",
      "177.0\n",
      "0.94247776\n"
     ]
    },
    {
     "data": {
      "image/png": "[encoded data removed]",
      "text/plain": [
       "<Figure size 2160x2160 with 2 Axes>"
      ]
     },
     "metadata": {},
     "output_type": "display_data"
    }
   ],
   "source": [
    "import cv2\n",
    "import numpy as np\n",
    "val_h = np.load('/home/mc16/result/val_fit_06-13-02:27:32.npy')\n",
    "val_masks = np.load('/home/mc16/result/val_masks_06-12-00:43:14.npy')\n",
    "\n",
    "test_index = 100\n",
    "\n",
    "test_mask = val_masks[test_index]\n",
    "\n",
    "h_lines = val_h[test_index][:]\n",
    "#edges = cv2.Canny(h_lines, 50,200)\n",
    "lines = cv2.HoughLines(test_mask, 2, np.pi/180, 100)\n",
    "#print(lines[0])\n",
    "\n",
    "\n",
    "#def draw_hough(lines):\n",
    "pic = np.zeros((224,224), dtype=np.uint8)\n",
    "    #if(len(lines) == 0):\n",
    "    #    return pic\n",
    "    #for rho,theta in lines[0]:\n",
    "for line in lines[0]:\n",
    "    rho = line[0]\n",
    "    theta = line[1]\n",
    "    print(rho)\n",
    "    print(theta)\n",
    "    if theta<(np.pi/4.) or theta>(3.*np.pi/4.0):\n",
    "        pt1=(int(rho/np.cos(theta)),0)\n",
    "    a=np.cos(theta)\n",
    "    b=np.sin(theta)\n",
    "    x0=a*rho\n",
    "    y0=b*rho\n",
    "    x1=int(x0+1000*(-b))\n",
    "    y1=int(y0+1000*(a))\n",
    "    x2=int(x0-1000*(-b))\n",
    "    y2=int(y0-1000*(a))\n",
    "    cv2.line(pic,(x1,y1),(x2,y2),255,2)\n",
    "    #return pic\n",
    "\n",
    "fig, axs = plt.subplots(1, 2, figsize=(30,30)) \n",
    "axs[0].imshow(test_mask,cmap='gray')\n",
    "hough_img = draw_hough(lines)\n",
    "axs[1].imshow(hough_img,cmap='gray')\n",
    "# axs[2].imshow(test_points,cmap='gray')\n",
    "plt.show()"
   ]
  },
  {
   "cell_type": "code",
   "execution_count": 89,
   "metadata": {
    "collapsed": false
   },
   "outputs": [
    {
     "data": {
      "text/plain": [
       "(22015, 224, 224, 3)"
      ]
     },
     "execution_count": 89,
     "metadata": {},
     "output_type": "execute_result"
    }
   ],
   "source": [
    "DATA_SHAPE = 224\n",
    "train_images = np.load('/home/mc16/pre_data/train_image_%s.npy'%DATA_SHAPE)\n",
    "val_images = np.load('/home/mc16/pre_data/val_image_%s.npy'%DATA_SHAPE)\n",
    "train_images = np.concatenate((train_images,val_images),axis=0)\n",
    "train_images.shape"
   ]
  }
 ],
 "metadata": {
  "anaconda-cloud": {},
  "kernelspec": {
   "display_name": "Python [conda env:anaconda2]",
   "language": "python",
   "name": "conda-env-anaconda2-py"
  },
  "language_info": {
   "codemirror_mode": {
    "name": "ipython",
    "version": 2
   },
   "file_extension": ".py",
   "mimetype": "text/x-python",
   "name": "python",
   "nbconvert_exporter": "python",
   "pygments_lexer": "ipython2",
   "version": "2.7.12"
  }
 },
 "nbformat": 4,
 "nbformat_minor": 1
}
