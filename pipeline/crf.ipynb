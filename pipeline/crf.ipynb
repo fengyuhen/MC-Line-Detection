{
 "cells": [
  {
   "cell_type": "code",
   "execution_count": 5,
   "metadata": {
    "collapsed": false
   },
   "outputs": [
    {
     "data": {
      "text/html": [
       "<style>.container {width:100% !important;}<style>"
      ],
      "text/plain": [
       "<IPython.core.display.HTML object>"
      ]
     },
     "metadata": {},
     "output_type": "display_data"
    }
   ],
   "source": [
    "from IPython.core.display import display, HTML\n",
    "display(HTML(\"<style>.container {width:100% !important;}<style>\"))"
   ]
  },
  {
   "cell_type": "markdown",
   "metadata": {},
   "source": [
    "# crf"
   ]
  },
  {
   "cell_type": "code",
   "execution_count": 1,
   "metadata": {
    "collapsed": false
   },
   "outputs": [
    {
     "name": "stderr",
     "output_type": "stream",
     "text": [
      "Using TensorFlow backend.\n"
     ]
    }
   ],
   "source": [
    "import numpy as np\n",
    "from tqdm import tqdm\n",
    "import tensorflow as tf\n",
    "import matplotlib.pyplot as plt\n",
    "import cv2\n",
    "import datetime\n",
    "import random\n",
    "import keras.backend as K\n",
    "from keras.models import load_model\n",
    "from keras.preprocessing import image\n",
    "import pydensecrf.densecrf as dcrf\n",
    "from pydensecrf.utils import compute_unary, create_pairwise_bilateral, create_pairwise_gaussian, unary_from_softmax\n",
    "import warnings\n",
    "import os\n",
    "\n",
    "os.environ[\"CUDA_DEVICE_ORDER\"] = \"PCI_BUS_ID\"\n",
    "os.environ[\"CUDA_VISIBLE_DEVICES\"] = \"7\"\n",
    "GPU_MEMORY_FRACTION = 1.0\n",
    "warnings.simplefilter(\"ignore\", np.RankWarning)\n",
    "\n",
    "DATA_SHAPE = 224\n",
    "val_images = np.load('/home/mc16/pre_data/val_image_%s.npy'%DATA_SHAPE)\n",
    "val_labels = np.load('/home/mc16/pre_data/val_label_%s.npy'%DATA_SHAPE)\n",
    "val_seg = np.load('/home/mc16/result/val_seg_06-14-05:52:35.npy')\n",
    "test1_images = np.load('/home/mc16/pre_data/test1_image_%s.npy'%DATA_SHAPE)\n",
    "test1_seg = np.load('/home/mc16/result/test1_seg_06-14-05:52:35.npy')"
   ]
  },
  {
   "cell_type": "code",
   "execution_count": 2,
   "metadata": {
    "collapsed": false
   },
   "outputs": [
    {
     "name": "stderr",
     "output_type": "stream",
     "text": [
      "/home/mc16/.local/lib/python2.7/site-packages/keras/models.py:282: UserWarning: No training configuration found in save file: the model was *not* compiled. Compile it manually.\n",
      "  warnings.warn('No training configuration found in save file: '\n"
     ]
    }
   ],
   "source": [
    "def config_keras_backend(fraction):\n",
    "    config = tf.ConfigProto()\n",
    "    config.gpu_options.allow_growth = True\n",
    "    config.gpu_options.per_process_gpu_memory_fraction = fraction \n",
    "    sess = tf.Session(config=config)\n",
    "    K.set_session(sess)\n",
    "    \n",
    "config_keras_backend(GPU_MEMORY_FRACTION)\n",
    "model = load_model('/home/mc16/model3/unet_1.h5')"
   ]
  },
  {
   "cell_type": "code",
   "execution_count": 3,
   "metadata": {
    "collapsed": true
   },
   "outputs": [],
   "source": [
    "def crf_image(img, model, gdims=(2,3), bdims=(20,100), iteras=1):\n",
    "    img = cv2.resize(img, (DATA_SHAPE, DATA_SHAPE))\n",
    "    score = model.predict(np.expand_dims(img,axis=0))\n",
    "\n",
    "    softmax = score[0].transpose((2, 0, 1)) # [channel,shap,shape]\n",
    "    unary = unary_from_softmax(softmax)\n",
    "    unary = np.ascontiguousarray(unary)#(2,n)\n",
    "    crf = dcrf.DenseCRF(img.shape[0] * img.shape[1], 2)\n",
    "    crf.setUnaryEnergy(unary)\n",
    "\n",
    "    feats = create_pairwise_gaussian(sdims=gdims, shape=img.shape[:2])\n",
    "    crf.addPairwiseEnergy(feats, compat=3, kernel=dcrf.DIAG_KERNEL, normalization=dcrf.NORMALIZE_SYMMETRIC)\n",
    "\n",
    "    feats = create_pairwise_bilateral(sdims=bdims, schan=(20, 20, 20), img=img, chdim=2)\n",
    "    crf.addPairwiseEnergy(feats, compat=10, kernel=dcrf.DIAG_KERNEL, normalization=dcrf.NORMALIZE_SYMMETRIC)\n",
    "\n",
    "    Q = crf.inference(iteras)\n",
    "    \n",
    "    res = np.argmax(Q, axis=0).reshape((img.shape[0], img.shape[1]))\n",
    "    return res    \n",
    "\n",
    "def cut_shit(mask, num, frac=0.7):\n",
    "    cut_mask = np.array(mask)\n",
    "    for j in range(224):\n",
    "        for i in range(223-num):\n",
    "            if np.sum(cut_mask[j, i:i+num]) > num*frac:\n",
    "                cut_L = i + int(num * (1 - frac * 0.9))\n",
    "                cut_R = i + int(num * (1 - frac * 0.1))\n",
    "                cut_mask[j, cut_L:cut_R] = 0\n",
    "                i = cut_R\n",
    "    return cut_mask\n",
    "\n",
    "def cut_top(mask, thresh, frac=0.3):\n",
    "    cut_mask = np.array(mask)\n",
    "    sum_mask = np.sum(mask, axis=1)\n",
    "    cut_top = 0\n",
    "    for i in range(len(sum_mask)):\n",
    "        if sum_mask[i] > thresh:\n",
    "            cut_top = i\n",
    "            break\n",
    "    cut_down = cut_top + int((224 - cut_top) * frac)\n",
    "#     print(cut_top, cut_down)\n",
    "    cut_mask[:cut_down,:] = 0\n",
    "    return cut_mask"
   ]
  },
  {
   "cell_type": "code",
   "execution_count": 4,
   "metadata": {
    "collapsed": false,
    "scrolled": true
   },
   "outputs": [
    {
     "name": "stdout",
     "output_type": "stream",
     "text": [
      "254\n"
     ]
    },
    {
     "data": {
      "image/png": "[encoded data removed]",
      "text/plain": [
       "<Figure size 2160x2160 with 5 Axes>"
      ]
     },
     "metadata": {},
     "output_type": "display_data"
    }
   ],
   "source": [
    "# CRF_GDIMS = (2, 2)\n",
    "# CRF_BDIMS = (40, 30)\n",
    "# CRF_ITERAS = 1\n",
    "# CUT_WIDTH = 35\n",
    "# CUT_FRAC = 0.8\n",
    "\n",
    "CRF_GDIMS = (2,2)\n",
    "CRF_BDIMS = (20,20)\n",
    "CRF_ITERAS = 1\n",
    "CUT_WIDTH = 25\n",
    "CUT_FRAC = 0.75\n",
    "TOP_THRESH = 10\n",
    "\n",
    "test_index = random.randint(0, len(val_labels))\n",
    "# test_index = 552\n",
    "print(test_index)\n",
    "test_img = val_images[test_index]\n",
    "test_label = val_labels[test_index,:,:,1]\n",
    "test_seg = val_seg[test_index]\n",
    "test_crf = crf_image(test_img, model, gdims=CRF_GDIMS, bdims=CRF_BDIMS, iteras=CRF_ITERAS)\n",
    "test_cut = cut_shit(test_crf, CUT_WIDTH, CUT_FRAC)\n",
    "top_cut = cut_top(test_cut, TOP_THRESH, frac=0.04)\n",
    "\n",
    "fig, axs = plt.subplots(1, 5, figsize=(30,30))\n",
    "axs[0].imshow(test_label,cmap='gray')\n",
    "axs[1].imshow(test_seg,cmap='gray')\n",
    "axs[2].imshow(test_crf,cmap='gray')\n",
    "axs[3].imshow(test_cut,cmap='gray')\n",
    "axs[4].imshow(top_cut,cmap='gray')\n",
    "plt.show()"
   ]
  },
  {
   "cell_type": "code",
   "execution_count": 5,
   "metadata": {
    "collapsed": false,
    "scrolled": false
   },
   "outputs": [
    {
     "name": "stderr",
     "output_type": "stream",
     "text": [
      "100%|██████████| 2015/2015 [14:15<00:00,  2.36it/s]\n"
     ]
    },
    {
     "name": "stdout",
     "output_type": "stream",
     "text": [
      "06-14-06:32:46\n"
     ]
    }
   ],
   "source": [
    "def get_crf_list(image_list):\n",
    "    crf_list = []\n",
    "    for image in tqdm(image_list):\n",
    "        crf = crf_image(image, model, gdims=CRF_GDIMS, bdims=CRF_BDIMS, iteras=CRF_ITERAS)\n",
    "        cut = cut_shit(crf, CUT_WIDTH, CUT_FRAC)\n",
    "        t_cut = cut_top(cut, TOP_THRESH, frac=0.04)\n",
    "        crf_list.append(t_cut)\n",
    "    return crf_list\n",
    "\n",
    "def get_segcut_list(seg_list):\n",
    "    sc_list = []\n",
    "    for seg in tqdm(seg_list):\n",
    "        cut = cut_shit(seg, CUT_WIDTH, CUT_FRAC)\n",
    "        sc_list.append(cut)\n",
    "    return sc_list\n",
    "\n",
    "TIMEFORMAT = \"%m-%d-%H:%M:%S\"\n",
    "val_crf = get_crf_list(val_images)\n",
    "# val_crf = get_segcut_list(val_seg)\n",
    "time = datetime.datetime.now().strftime(TIMEFORMAT)\n",
    "print(time)\n",
    "np.save('/home/mc16/result/val_crf_%s.npy'%time, val_crf)"
   ]
  },
  {
   "cell_type": "code",
   "execution_count": 28,
   "metadata": {
    "collapsed": false
   },
   "outputs": [
    {
     "name": "stderr",
     "output_type": "stream",
     "text": [
      "100%|██████████| 2034/2034 [13:55<00:00,  2.44it/s]\n"
     ]
    },
    {
     "name": "stdout",
     "output_type": "stream",
     "text": [
      "06-14-05:39:17\n"
     ]
    }
   ],
   "source": [
    "test1_crf = get_crf_list(test1_images)\n",
    "time = datetime.datetime.now().strftime(TIMEFORMAT)\n",
    "print(time)\n",
    "np.save('/home/mc16/result/test1_crf_%s.npy'%time, test1_crf)"
   ]
  }
 ],
 "metadata": {
  "anaconda-cloud": {},
  "kernelspec": {
   "display_name": "Python [default]",
   "language": "python",
   "name": "python2"
  },
  "language_info": {
   "codemirror_mode": {
    "name": "ipython",
    "version": 2
   },
   "file_extension": ".py",
   "mimetype": "text/x-python",
   "name": "python",
   "nbconvert_exporter": "python",
   "pygments_lexer": "ipython2",
   "version": "2.7.12"
  }
 },
 "nbformat": 4,
 "nbformat_minor": 1
}
