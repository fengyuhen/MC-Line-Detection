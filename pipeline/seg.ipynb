{
 "cells": [
  {
   "cell_type": "markdown",
   "metadata": {},
   "source": [
    "# seg"
   ]
  },
  {
   "cell_type": "code",
   "execution_count": 1,
   "metadata": {
    "collapsed": false
   },
   "outputs": [
    {
     "data": {
      "text/html": [
       "<style>.container {width:100% !important;}<style>"
      ],
      "text/plain": [
       "<IPython.core.display.HTML object>"
      ]
     },
     "metadata": {},
     "output_type": "display_data"
    }
   ],
   "source": [
    "from IPython.core.display import display, HTML\n",
    "display(HTML(\"<style>.container {width:100% !important;}<style>\"))"
   ]
  },
  {
   "cell_type": "code",
   "execution_count": 2,
   "metadata": {
    "collapsed": false
   },
   "outputs": [],
   "source": [
    "import numpy as np\n",
    "from tqdm import tqdm\n",
    "import matplotlib.pyplot as plt\n",
    "import cv2\n",
    "import random\n",
    "import keras.backend as K\n",
    "from keras.models import load_model\n",
    "import datetime\n",
    "\n",
    "DATA_SHAPE = 224\n",
    "val_images = np.load('/home/mc16/pre_data/val_image.npy')\n",
    "val_labels = np.load('/home/mc16/pre_data/val_label_w3.npy')\n",
    "test1_images = np.load('/home/mc16/pre_data/test1_image.npy')"
   ]
  },
  {
   "cell_type": "code",
   "execution_count": 3,
   "metadata": {
    "collapsed": true
   },
   "outputs": [],
   "source": [
    "import tensorflow as tf\n",
    "from keras import layers, Input, Model, Sequential, optimizers\n",
    "from keras.layers import Reshape, Merge, Lambda, Add, Subtract, dot\n",
    "from keras.layers import Layer, Dense, Dropout, Activation, Flatten, Reshape, Permute\n",
    "from keras.layers import BatchNormalization\n",
    "from keras.layers import Conv2D, MaxPooling2D, UpSampling2D, ZeroPadding2D\n",
    "from keras.optimizers import Adam, SGD\n",
    "from keras.preprocessing import image\n",
    "from keras.regularizers import l2\n",
    "from keras.engine import Layer\n",
    "from keras.utils import multi_gpu_model, np_utils\n",
    "import os\n",
    "\n",
    "os.environ[\"CUDA_DEVICE_ORDER\"] = \"PCI_BUS_ID\"\n",
    "os.environ[\"CUDA_VISIBLE_DEVICES\"] = \"7\"\n",
    "GPU_MEMORY_FRACTION = 1.0"
   ]
  },
  {
   "cell_type": "code",
   "execution_count": 4,
   "metadata": {
    "collapsed": false
   },
   "outputs": [
    {
     "name": "stderr",
     "output_type": "stream",
     "text": [
      "/home/mc16/.local/lib/python2.7/site-packages/keras/models.py:282: UserWarning: No training configuration found in save file: the model was *not* compiled. Compile it manually.\n",
      "  warnings.warn('No training configuration found in save file: '\n"
     ]
    }
   ],
   "source": [
    "GPU_MEMORY_FRACTION = 0.3\n",
    "def config_keras_backend(fraction):\n",
    "    config = tf.ConfigProto()\n",
    "    config.gpu_options.allow_growth = True\n",
    "    config.gpu_options.per_process_gpu_memory_fraction = fraction \n",
    "    sess = tf.Session(config=config)\n",
    "    K.set_session(sess)\n",
    "\n",
    "# detect points for one image\n",
    "def detect_points(img, model, shape):\n",
    "    img = cv2.resize(img, (shape,shape))\n",
    "    img = np.expand_dims(img,axis=0)\n",
    "    points_logist = model.predict(img)\n",
    "    points = np.argmax(points_logist, axis=-1)\n",
    "    return points[0]\n",
    "\n",
    "config_keras_backend(GPU_MEMORY_FRACTION)\n",
    "model = load_model('/home/mc16/model3/unet0615.h5')\n",
    "#model = load_model('/home/mc16/model7_segcrf/seg_two.h5')"
   ]
  },
  {
   "cell_type": "code",
   "execution_count": 5,
   "metadata": {
    "collapsed": true
   },
   "outputs": [],
   "source": [
    "def detect_test_list(model, shape):\n",
    "    test_set_path = '/data/mc_data/MLDC/data/test1/images/' \n",
    "    test_md5_paths = open('/home/mc16/test1_list.txt','r').readlines()\n",
    "    points_list = np.zeros((len(test_md5_paths), shape, shape), np.uint8)\n",
    "    i = 0\n",
    "    for path in tqdm(test_md5_paths):\n",
    "        md5 = path.split('.')[0]\n",
    "        img = plt.imread(test_set_path + md5 +'.jpg')\n",
    "        points_logist = detect_points(img, model, shape)\n",
    "        points_list[i] = points_logist\n",
    "        i = i + 1\n",
    "    return points_list\n",
    "\n",
    "def detect_val_points(val_images, model, shape):\n",
    "    points_list = np.zeros((len(val_images), shape, shape), np.uint8)\n",
    "    i = 0\n",
    "    for image in tqdm(val_images):\n",
    "        points_list[i] = detect_points(image, model, shape)\n",
    "        i = i + 1\n",
    "    return points_list\n",
    "\n",
    "val_seg = detect_val_points(val_images, model, DATA_SHAPE)\n",
    "# test1_seg = detect_test_list(model, DATA_SHAPE)"
   ]
  },
  {
   "cell_type": "code",
   "execution_count": 7,
   "metadata": {
    "collapsed": true
   },
   "outputs": [],
   "source": [
    "from keras.preprocessing import image\n",
    "import pydensecrf.densecrf as dcrf\n",
    "from pydensecrf.utils import compute_unary, create_pairwise_bilateral, create_pairwise_gaussian, unary_from_softmax\n",
    "import warnings\n",
    "warnings.simplefilter(\"ignore\", np.RankWarning)\n",
    "\n",
    "def crf_image(img, model, gdims=(2,3), bdims=(20,100), iteras=1):\n",
    "    img = cv2.resize(img, (DATA_SHAPE, DATA_SHAPE))\n",
    "    score = model.predict(np.expand_dims(img,axis=0))\n",
    "\n",
    "    softmax = score[0].transpose((2, 0, 1)) # [channel,shap,shape]\n",
    "    unary = unary_from_softmax(softmax)\n",
    "    unary = np.ascontiguousarray(unary)#(2,n)\n",
    "    crf = dcrf.DenseCRF(img.shape[0] * img.shape[1], 2)\n",
    "    crf.setUnaryEnergy(unary)\n",
    "\n",
    "    feats = create_pairwise_gaussian(sdims=gdims, shape=img.shape[:2])\n",
    "    crf.addPairwiseEnergy(feats, compat=3, kernel=dcrf.DIAG_KERNEL, normalization=dcrf.NORMALIZE_SYMMETRIC)\n",
    "\n",
    "    feats = create_pairwise_bilateral(sdims=bdims, schan=(20, 20, 20), img=img, chdim=2)\n",
    "    crf.addPairwiseEnergy(feats, compat=10, kernel=dcrf.DIAG_KERNEL, normalization=dcrf.NORMALIZE_SYMMETRIC)\n",
    "\n",
    "    Q = crf.inference(iteras)\n",
    "    \n",
    "    res = np.argmax(Q, axis=0).reshape((img.shape[0], img.shape[1]))\n",
    "    return res    \n",
    "\n",
    "def cut_shit(mask, num, frac=0.7):\n",
    "    cut_mask = np.array(mask)\n",
    "    for j in range(224):\n",
    "        for i in range(223-num):\n",
    "            if np.sum(cut_mask[j, i:i+num]) > num*frac:\n",
    "                cut_L = i + int(num * (1 - frac * 0.75))\n",
    "                cut_R = i + int(num * (1 - frac * 0.25))\n",
    "                cut_mask[j, cut_L:cut_R] = 0\n",
    "    return cut_mask"
   ]
  },
  {
   "cell_type": "code",
   "execution_count": 8,
   "metadata": {
    "collapsed": false
   },
   "outputs": [
    {
     "name": "stderr",
     "output_type": "stream",
     "text": [
      "100%|██████████| 2015/2015 [12:43<00:00,  2.64it/s]\n"
     ]
    }
   ],
   "source": [
    "CRF_GDIMS = (3,3)\n",
    "CRF_BDIMS = (50,50)\n",
    "CRF_ITERAS = 1\n",
    "CUT_WIDTH = 30\n",
    "CUT_FRAC = 0.5\n",
    "def get_crf_list(image_list):\n",
    "    crf_list = []\n",
    "    for img in tqdm(image_list):\n",
    "        crf = crf_image(img, model, gdims=CRF_GDIMS, bdims=CRF_BDIMS, iteras=CRF_ITERAS)\n",
    "        cut = cut_shit(crf, CUT_WIDTH, CUT_FRAC)\n",
    "        crf_list.append(cut)\n",
    "    return crf_list\n",
    "val_crf = get_crf_list(val_images)"
   ]
  },
  {
   "cell_type": "code",
   "execution_count": null,
   "metadata": {
    "collapsed": true
   },
   "outputs": [],
   "source": [
    "def get_cluster_list(crf_list):\n",
    "    cluster_list = []\n",
    "    for crf in tqdm(crf_list):\n",
    "        point = matrix_to_point(cut)\n",
    "        cluster = get_cluster_points(point, EPS = CLUSTER_EPS, MIN_SAMPLES = 3, minN=CLUSTER_MINN)\n",
    "        cluster_list.append(cluster)\n",
    "    return cluster_list"
   ]
  },
  {
   "cell_type": "code",
   "execution_count": null,
   "metadata": {
    "collapsed": true
   },
   "outputs": [],
   "source": []
  },
  {
   "cell_type": "code",
   "execution_count": null,
   "metadata": {
    "collapsed": true
   },
   "outputs": [],
   "source": []
  }
 ],
 "metadata": {
  "anaconda-cloud": {},
  "kernelspec": {
   "display_name": "Python [default]",
   "language": "python",
   "name": "python2"
  },
  "language_info": {
   "codemirror_mode": {
    "name": "ipython",
    "version": 2
   },
   "file_extension": ".py",
   "mimetype": "text/x-python",
   "name": "python",
   "nbconvert_exporter": "python",
   "pygments_lexer": "ipython2",
   "version": "2.7.12"
  }
 },
 "nbformat": 4,
 "nbformat_minor": 1
}
