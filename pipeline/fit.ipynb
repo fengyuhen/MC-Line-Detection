{
 "cells": [
  {
   "cell_type": "code",
   "execution_count": 8,
   "metadata": {
    "collapsed": false
   },
   "outputs": [
    {
     "data": {
      "text/html": [
       "<style>.container {width:100% !important;}<style>"
      ],
      "text/plain": [
       "<IPython.core.display.HTML object>"
      ]
     },
     "metadata": {},
     "output_type": "display_data"
    }
   ],
   "source": [
    "from IPython.core.display import display, HTML\n",
    "display(HTML(\"<style>.container {width:100% !important;}<style>\"))"
   ]
  },
  {
   "cell_type": "markdown",
   "metadata": {},
   "source": [
    "# fit"
   ]
  },
  {
   "cell_type": "code",
   "execution_count": 1,
   "metadata": {
    "collapsed": false
   },
   "outputs": [
    {
     "name": "stderr",
     "output_type": "stream",
     "text": [
      "Using TensorFlow backend.\n"
     ]
    }
   ],
   "source": [
    "import numpy as np\n",
    "from tqdm import tqdm\n",
    "import matplotlib.pyplot as plt\n",
    "import cv2\n",
    "import random\n",
    "import json\n",
    "import math\n",
    "import keras.backend as K\n",
    "from keras.models import load_model\n",
    "\n",
    "DATA_SHAPE = 224\n",
    "val_labels = np.load('/home/mc16/pre_data/val_label_%s.npy'%DATA_SHAPE)\n",
    "val_cluster = np.load('/home/mc16/result/val_cluster_06-14-06:38:40.npy')\n",
    "test1_cluster = np.load('/home/mc16/result/test1_cluster_06-14-06:41:52.npy')"
   ]
  },
  {
   "cell_type": "code",
   "execution_count": 2,
   "metadata": {
    "collapsed": true
   },
   "outputs": [],
   "source": [
    "def get_xmin(mask, thresh):\n",
    "    mask = np.array(mask)\n",
    "    sum_mask = np.sum(mask, axis=1)\n",
    "    for i in range(len(sum_mask)):\n",
    "        if sum_mask[i] > thresh:\n",
    "            return i\n",
    "    return 0\n",
    "\n",
    "def get_predict_point_per_sample(points, d, x_min):\n",
    "    line_list = []\n",
    "    if(len(points)==0):\n",
    "        return line_list\n",
    "    \n",
    "    for line_num in range(points.shape[0]):\n",
    "        x = points[line_num][:, 0]\n",
    "        y = points[line_num][:, 1]\n",
    "        x_range = x.max() - x.min()\n",
    "        y_range = y.max() - y.min()\n",
    "        if (x_range < 20 and y_range < 20):\n",
    "            continue\n",
    "        z = np.polyfit(x, y, d)\n",
    "        p = np.poly1d(z)\n",
    "        temp_x = range(x_min, 223)\n",
    "        temp_y = p(temp_x)\n",
    "        temp_x_y = []\n",
    "        for i in range(temp_x.__len__()):\n",
    "            if temp_y[i] < 0 or temp_y[i] > 223:\n",
    "                continue\n",
    "            temp_x_y.append([temp_x[i], int(temp_y[i])])\n",
    "        line_list.append(temp_x_y)\n",
    "    return line_list\n",
    "\n",
    "def lines_to_img(lines, shape):\n",
    "    pic = np.zeros((shape, shape), np.uint8)\n",
    "    for line in lines:\n",
    "        for point in line:\n",
    "            pic[point[0], point[1]] = 255\n",
    "    return pic\n",
    "\n",
    "def cluster_to_img(cluster_points, shape):\n",
    "    pic = np.zeros((shape, shape), np.uint8)\n",
    "    num_label = cluster_points.shape[0]\n",
    "    for i in range(num_label):\n",
    "        for point in cluster_points[i]:\n",
    "#             print(point)\n",
    "            pic[point[0], point[1]] = 50 + i * int((255 - 50) / num_label) \n",
    "    return pic"
   ]
  },
  {
   "cell_type": "code",
   "execution_count": 3,
   "metadata": {
    "collapsed": false
   },
   "outputs": [],
   "source": [
    "def delete_cluster(points, cluster_list):\n",
    "    new_points = np.delete(points, cluster_list, axis=0)\n",
    "    return new_points\n",
    "\n",
    "def get_line_info(points, X_RANGE_LIM = 20, Y_RANGE_LIM = 20):\n",
    "    ## 得到符合条件的line, line_info\n",
    "    ## 返回points, line_info_right, line_info_polar\n",
    "    line_info_right = []\n",
    "    line_info_polar = []\n",
    "    delete_cluster_list = []\n",
    "    for line_num in range(points.shape[0]):\n",
    "        x = points[line_num][:, 0]\n",
    "        y = points[line_num][:, 1]\n",
    "        \n",
    "        ## 过滤，并删除太小的簇\n",
    "        x_range = x.max() - x.min()\n",
    "        y_range = y.max() - y.min()\n",
    "        if x_range < X_RANGE_LIM and y_range < Y_RANGE_LIM:\n",
    "            delete_cluster_list.append(line_num)\n",
    "            continue\n",
    "        \n",
    "        z = np.polyfit(x, y, 1)\n",
    "        p = np.poly1d(z)\n",
    "        line_info_right.append(z)\n",
    "        z_j = z.copy()\n",
    "        z_j[0] = (math.atan(z_j[0]) * 180 / math.pi) - 90\n",
    "        z_j[1] = abs(z_j[1] * math.sin(z_j[0]))\n",
    "        line_info_polar.append(z_j)\n",
    "    \n",
    "    new_points = delete_cluster(points, delete_cluster_list)\n",
    "    return new_points, line_info_right, line_info_polar\n",
    "\n",
    "## 根据传入的每条线的极坐标参数，角度阈值，距离阈值，将符合条件的簇删掉（todo 合并）\n",
    "def get_flg_arr(line_info_polar, ANGEL = 20, DIS = 50):\n",
    "    i = 0\n",
    "    flg = []\n",
    "    for i in range(line_info_polar.__len__()):\n",
    "        flg.append(0)\n",
    "    \n",
    "    flg_id = 1\n",
    "    i = 0\n",
    "    while i < line_info_polar.__len__():\n",
    "        if flg[i] == 0:\n",
    "            flg[i] = flg_id\n",
    "            flg_id += 1\n",
    "        else:\n",
    "            i += 1\n",
    "            continue\n",
    "        j = i + 1\n",
    "        while(j < line_info_polar.__len__()):\n",
    "            if flg[j] != 0:\n",
    "                j += 1\n",
    "                continue\n",
    "            if abs(line_info_polar[i][0] - line_info_polar[j][0]) < ANGEL and abs(line_info_polar[i][1] - line_info_polar[j][1]) < DIS:\n",
    "                flg[j] = flg[i]\n",
    "            j += 1\n",
    "        i += 1\n",
    "    return flg\n",
    "\n",
    "# input struct line -> point\n",
    "def get_better_line_per_sample(points, x_min, ANGEL=20, DIS=50, X_RANGE_LIM=20, Y_RANGE_LIM=20):\n",
    "    line_list = []\n",
    "    if(len(points)==0):\n",
    "        return line_list\n",
    "        \n",
    "    x_min_mean = x_min\n",
    "    new_points, line_info_right, line_info_polar = get_line_info(points, X_RANGE_LIM, Y_RANGE_LIM)\n",
    "    if(len(new_points)==0):\n",
    "        return line_list\n",
    "    flg = get_flg_arr(line_info_polar, ANGEL, DIS)\n",
    "    \n",
    "    temp_x = range(x_min_mean, 223)\n",
    "    flg_id = 1; zs = []\n",
    "    while flg_id <= np.array(flg).max():\n",
    "        i = 0\n",
    "        z = [0, 0]\n",
    "        x_max_range = 0\n",
    "        max_index = 0\n",
    "        for i in range(flg.__len__()):\n",
    "            if flg[i] == flg_id:\n",
    "                cur_x_range = new_points[i][:,0].max() - new_points[i][:,0].min()\n",
    "                if cur_x_range > x_max_range:\n",
    "                    x_max_range = cur_x_range\n",
    "                    max_index = i\n",
    "                \n",
    "        z[0] = line_info_right[max_index][0]\n",
    "        z[1] = line_info_right[max_index][1]\n",
    "        zs.append(z)\n",
    "        flg_id += 1\n",
    "        \n",
    "    for line_num in range(zs.__len__()):\n",
    "        temp_x_y = []\n",
    "        line_p = np.poly1d(zs[line_num])\n",
    "        temp_y = line_p(temp_x)\n",
    "        j = 0\n",
    "        for i in range(temp_x.__len__()):\n",
    "            if temp_y[i] < 0 or temp_y[i] > 223:\n",
    "                continue\n",
    "            temp_x_y.append([temp_x[i], int(temp_y[i])])\n",
    "        line_list.append(temp_x_y)\n",
    "        \n",
    "    return line_list"
   ]
  },
  {
   "cell_type": "code",
   "execution_count": 27,
   "metadata": {
    "collapsed": false,
    "scrolled": false
   },
   "outputs": [
    {
     "name": "stdout",
     "output_type": "stream",
     "text": [
      "(558, 3, 3)\n"
     ]
    },
    {
     "data": {
      "image/png": "[encoded data removed]",
      "text/plain": [
       "<Figure size 2160x2160 with 4 Axes>"
      ]
     },
     "metadata": {},
     "output_type": "display_data"
    }
   ],
   "source": [
    "MIN_THRESH = 200\n",
    "POLAR_THETA = 15\n",
    "POLAR_RO = 34\n",
    "\n",
    "test_index = random.randint(0, len(val_cluster))\n",
    "# test_index = 232\n",
    "test_label = val_labels[test_index,:,:,1]\n",
    "test_cluster = val_cluster[test_index]\n",
    "cluster_img = cluster_to_img(test_cluster, DATA_SHAPE)\n",
    "xmin = get_xmin(cluster_img, MIN_THRESH)\n",
    "all_lines = get_predict_point_per_sample(test_cluster, 1, xmin)\n",
    "all_img = lines_to_img(all_lines, DATA_SHAPE)\n",
    "better_lines = get_better_line_per_sample(test_cluster, xmin, ANGEL=POLAR_THETA, DIS=POLAR_RO, X_RANGE_LIM=20, Y_RANGE_LIM=20)\n",
    "better_img = lines_to_img(better_lines, DATA_SHAPE)\n",
    "\n",
    "fig, axs = plt.subplots(1, 4, figsize=(30,30))\n",
    "axs[0].imshow(test_label, cmap='gray')\n",
    "axs[1].imshow(cluster_img, cmap='gray')\n",
    "axs[2].imshow(all_img, cmap='gray')\n",
    "axs[3].imshow(better_img, cmap='gray')\n",
    "print(test_index, len(all_lines), len(better_lines))\n",
    "plt.show()"
   ]
  },
  {
   "cell_type": "code",
   "execution_count": 28,
   "metadata": {
    "collapsed": false
   },
   "outputs": [
    {
     "name": "stderr",
     "output_type": "stream",
     "text": [
      "100%|██████████| 2015/2015 [00:05<00:00, 374.77it/s]\n"
     ]
    }
   ],
   "source": [
    "def get_fit_lines(clusters_list):\n",
    "    lines_list = []\n",
    "    for clusters in tqdm(clusters_list):\n",
    "        cluster_img = cluster_to_img(clusters, DATA_SHAPE)\n",
    "        xmin = get_xmin(cluster_img, 200)\n",
    "#         lines = get_predict_point_per_sample(clusters, 1, xmin)\n",
    "        lines = get_better_line_per_sample(clusters, xmin, ANGEL=POLAR_THETA, DIS=POLAR_RO, X_RANGE_LIM=20, Y_RANGE_LIM=20)\n",
    "        lines_list.append(lines)\n",
    "    return lines_list\n",
    "   \n",
    "val_fit = get_fit_lines(val_cluster)"
   ]
  },
  {
   "cell_type": "markdown",
   "metadata": {},
   "source": [
    "# Save json"
   ]
  },
  {
   "cell_type": "code",
   "execution_count": 29,
   "metadata": {
    "collapsed": false
   },
   "outputs": [
    {
     "name": "stderr",
     "output_type": "stream",
     "text": [
      "2015it [00:00, 2465.79it/s]\n"
     ]
    },
    {
     "name": "stdout",
     "output_type": "stream",
     "text": [
      "2015it [00:31, 63.24it/s]\n",
      "{'f1': 0.6589251153788893, 'code': 0, 'precision': 0.7759467040673211, 'recall': 0.5725743855109962}\n"
     ]
    }
   ],
   "source": [
    "def np2json(arlines):\n",
    "    json_lines = []\n",
    "    for arline in arlines:\n",
    "        json_line = []\n",
    "        for point in arline:\n",
    "            json_line.append({\"x\":int(point[1]), \"y\":int(point[0])})\n",
    "        json_lines.append(json_line)\n",
    "    return {\"Lanes\": json_lines}\n",
    "\n",
    "def save_jsons(lines_list, list_path, json_path):\n",
    "    test_md5_paths = open(list_path, 'r').readlines()\n",
    "    for i, lines in tqdm(enumerate(lines_list)):\n",
    "        md5 = test_md5_paths[i].split('.')[0]\n",
    "        lines_json = np2json(lines)\n",
    "        lines_str = json.dumps(lines_json)\n",
    "        file = open(json_path + '%s.json'%md5,'w')\n",
    "        file.write(lines_str)\n",
    "        file.close()\n",
    "\n",
    "val_list_path = '/data/mc_data/MLDC/data/val/list.txt'\n",
    "val_json_path = '/home/mc16/result_json/val_results/'\n",
    "save_jsons(val_fit, val_list_path, val_json_path)\n",
    "!python /home/mc16/evalue.py"
   ]
  },
  {
   "cell_type": "code",
   "execution_count": 30,
   "metadata": {
    "collapsed": false
   },
   "outputs": [
    {
     "name": "stderr",
     "output_type": "stream",
     "text": [
      "100%|██████████| 2034/2034 [00:05<00:00, 386.96it/s]\n",
      "2034it [00:00, 2840.20it/s]\n"
     ]
    }
   ],
   "source": [
    "test1_fit = get_fit_lines(test1_cluster)\n",
    "test1_list_path = '/home/mc16/test1_list.txt'\n",
    "test1_json_path = '/home/mc16/result_json/results/'\n",
    "save_jsons(test1_fit, test1_list_path, test1_json_path)"
   ]
  }
 ],
 "metadata": {
  "anaconda-cloud": {},
  "kernelspec": {
   "display_name": "Python [default]",
   "language": "python",
   "name": "python2"
  },
  "language_info": {
   "codemirror_mode": {
    "name": "ipython",
    "version": 2
   },
   "file_extension": ".py",
   "mimetype": "text/x-python",
   "name": "python",
   "nbconvert_exporter": "python",
   "pygments_lexer": "ipython2",
   "version": "2.7.12"
  }
 },
 "nbformat": 4,
 "nbformat_minor": 1
}
