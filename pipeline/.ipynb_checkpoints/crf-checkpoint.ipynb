{
 "cells": [
  {
   "cell_type": "code",
   "execution_count": 5,
   "metadata": {
    "collapsed": false
   },
   "outputs": [
    {
     "data": {
      "text/html": [
       "<style>.container {width:100% !important;}<style>"
      ],
      "text/plain": [
       "<IPython.core.display.HTML object>"
      ]
     },
     "metadata": {},
     "output_type": "display_data"
    }
   ],
   "source": [
    "from IPython.core.display import display, HTML\n",
    "display(HTML(\"<style>.container {width:100% !important;}<style>\"))"
   ]
  },
  {
   "cell_type": "markdown",
   "metadata": {},
   "source": [
    "# crf"
   ]
  },
  {
   "cell_type": "code",
   "execution_count": 47,
   "metadata": {
    "collapsed": false
   },
   "outputs": [],
   "source": [
    "import numpy as np\n",
    "from tqdm import tqdm\n",
    "import tensorflow as tf\n",
    "import matplotlib.pyplot as plt\n",
    "import cv2\n",
    "import datetime\n",
    "import random\n",
    "import keras.backend as K\n",
    "from keras.models import load_model\n",
    "from keras.preprocessing import image\n",
    "import pydensecrf.densecrf as dcrf\n",
    "from pydensecrf.utils import compute_unary, create_pairwise_bilateral, create_pairwise_gaussian, unary_from_softmax\n",
    "import warnings\n",
    "import os\n",
    "\n",
    "os.environ[\"CUDA_DEVICE_ORDER\"] = \"PCI_BUS_ID\"\n",
    "os.environ[\"CUDA_VISIBLE_DEVICES\"] = \"7\"\n",
    "GPU_MEMORY_FRACTION = 1.0\n",
    "warnings.simplefilter(\"ignore\", np.RankWarning)\n",
    "\n",
    "DATA_SHAPE = 224\n",
    "val_images = np.load('/home/mc16/pre_data/val_image_%s.npy'%DATA_SHAPE)\n",
    "val_labels = np.load('/home/mc16/pre_data/val_label_%s.npy'%DATA_SHAPE)\n",
    "val_seg = np.load('/home/mc16/result/val_seg_06-13-16:48:45.npy')\n",
    "test1_images = np.load('/home/mc16/pre_data/test1_image_%s.npy'%DATA_SHAPE)\n",
    "test1_seg = np.load('/home/mc16/result/test1_seg_06-13-14:46:16.npy')"
   ]
  },
  {
   "cell_type": "code",
   "execution_count": 48,
   "metadata": {
    "collapsed": false
   },
   "outputs": [],
   "source": [
    "def config_keras_backend(fraction):\n",
    "    config = tf.ConfigProto()\n",
    "    config.gpu_options.allow_growth = True\n",
    "    config.gpu_options.per_process_gpu_memory_fraction = fraction \n",
    "    sess = tf.Session(config=config)\n",
    "    K.set_session(sess)\n",
    "    \n",
    "config_keras_backend(GPU_MEMORY_FRACTION)\n",
    "model = load_model('/home/mc16/model7_segcrf/seg_two.h5')"
   ]
  },
  {
   "cell_type": "code",
   "execution_count": 49,
   "metadata": {
    "collapsed": true
   },
   "outputs": [],
   "source": [
    "def crf_image(img, model, gdims=(2,3), bdims=(20,100), iteras=1):\n",
    "    img = cv2.resize(img, (DATA_SHAPE, DATA_SHAPE))\n",
    "    score = model.predict(np.expand_dims(img,axis=0))\n",
    "\n",
    "    softmax = score[0].transpose((2, 0, 1)) # [channel,shap,shape]\n",
    "    unary = unary_from_softmax(softmax)\n",
    "    unary = np.ascontiguousarray(unary)#(2,n)\n",
    "    crf = dcrf.DenseCRF(img.shape[0] * img.shape[1], 2)\n",
    "    crf.setUnaryEnergy(unary)\n",
    "\n",
    "    feats = create_pairwise_gaussian(sdims=gdims, shape=img.shape[:2])\n",
    "    crf.addPairwiseEnergy(feats, compat=3, kernel=dcrf.DIAG_KERNEL, normalization=dcrf.NORMALIZE_SYMMETRIC)\n",
    "\n",
    "    feats = create_pairwise_bilateral(sdims=bdims, schan=(20, 20, 20), img=img, chdim=2)\n",
    "    crf.addPairwiseEnergy(feats, compat=10, kernel=dcrf.DIAG_KERNEL, normalization=dcrf.NORMALIZE_SYMMETRIC)\n",
    "\n",
    "    Q = crf.inference(iteras)\n",
    "    \n",
    "    res = np.argmax(Q, axis=0).reshape((img.shape[0], img.shape[1]))\n",
    "    return res    \n",
    "\n",
    "def cut_shit(mask, num, frac=0.7):\n",
    "    cut_mask = np.array(mask)\n",
    "    for j in range(224):\n",
    "        for i in range(223-num):\n",
    "            if np.sum(cut_mask[j, i:i+num]) > num*frac:\n",
    "                cut_L = i + int(num * (1 - frac * 0.75))\n",
    "                cut_R = i + int(num * (1 - frac * 0.25))\n",
    "                cut_mask[j, cut_L:cut_R] = 0\n",
    "    return cut_mask"
   ]
  },
  {
   "cell_type": "code",
   "execution_count": 53,
   "metadata": {
    "collapsed": false,
    "scrolled": true
   },
   "outputs": [
    {
     "name": "stdout",
     "output_type": "stream",
     "text": [
      "312\n"
     ]
    },
    {
     "data": {
      "image/png": "[encoded data removed]",
      "text/plain": [
       "<Figure size 2160x2160 with 4 Axes>"
      ]
     },
     "metadata": {},
     "output_type": "display_data"
    }
   ],
   "source": [
    "CRF_GDIMS = (3,3)\n",
    "CRF_BDIMS = (50,50)\n",
    "CRF_ITERAS = 1\n",
    "CUT_WIDTH = 30\n",
    "CUT_FRAC = 0.7\n",
    "\n",
    "test_index = random.randint(0, len(val_labels))\n",
    "# test_index = 1369\n",
    "print(test_index)\n",
    "test_img = val_images[test_index]\n",
    "test_label = val_labels[test_index,:,:,1]\n",
    "test_seg = val_seg[test_index]\n",
    "test_crf = crf_image(test_img, model, gdims=CRF_GDIMS, bdims=CRF_BDIMS, iteras=CRF_ITERAS)\n",
    "test_cut = cut_shit(test_crf, CUT_WIDTH, CUT_FRAC)\n",
    "fig, axs = plt.subplots(1, 4, figsize=(30,30)) \n",
    "axs[0].imshow(test_label,cmap='gray')\n",
    "axs[1].imshow(test_seg,cmap='gray')\n",
    "axs[2].imshow(test_crf,cmap='gray')\n",
    "axs[3].imshow(test_cut,cmap='gray')\n",
    "plt.show()"
   ]
  },
  {
   "cell_type": "code",
   "execution_count": 55,
   "metadata": {
    "collapsed": false,
    "scrolled": true
   },
   "outputs": [
    {
     "name": "stderr",
     "output_type": "stream",
     "text": [
      "\n",
      "  0%|          | 0/2015 [00:00<?, ?it/s]\u001b[A\n",
      "  0%|          | 1/2015 [00:00<12:49,  2.62it/s]\u001b[A\n",
      "  0%|          | 2/2015 [00:00<12:26,  2.70it/s]\u001b[A\n",
      "  0%|          | 3/2015 [00:01<11:38,  2.88it/s]\u001b[A\n",
      "  0%|          | 4/2015 [00:01<11:18,  2.96it/s]\u001b[A\n",
      "  0%|          | 5/2015 [00:01<11:04,  3.03it/s]\u001b[A\n",
      "  0%|          | 6/2015 [00:01<10:54,  3.07it/s]\u001b[A\n",
      "  0%|          | 7/2015 [00:02<10:48,  3.09it/s]\u001b[A\n",
      "  0%|          | 8/2015 [00:02<10:45,  3.11it/s]\u001b[A\n",
      "  0%|          | 9/2015 [00:02<10:41,  3.13it/s]\u001b[A\n",
      "  0%|          | 10/2015 [00:03<10:37,  3.15it/s]\u001b[A\n",
      "  1%|          | 11/2015 [00:03<10:50,  3.08it/s]\u001b[A\n",
      "  1%|          | 12/2015 [00:03<10:55,  3.06it/s]\u001b[AException KeyError: KeyError(<weakref at 0x7f8cc962d3c0; to 'tqdm' at 0x7f8cc95af7d0>,) in <bound method tqdm.__del__ of   1%|          | 12/2015 [00:04<11:37,  2.87it/s]> ignored\n"
     ]
    },
    {
     "ename": "KeyboardInterrupt",
     "evalue": "",
     "output_type": "error",
     "traceback": [
      "\u001b[0;31m---------------------------------------------------------------------------\u001b[0m",
      "\u001b[0;31mKeyboardInterrupt\u001b[0m                         Traceback (most recent call last)",
      "\u001b[0;32m<ipython-input-55-59c806b3f194>\u001b[0m in \u001b[0;36m<module>\u001b[0;34m()\u001b[0m\n\u001b[1;32m      8\u001b[0m \u001b[0;34m\u001b[0m\u001b[0m\n\u001b[1;32m      9\u001b[0m \u001b[0mTIMEFORMAT\u001b[0m \u001b[0;34m=\u001b[0m \u001b[0;34m\"%m-%d-%H:%M:%S\"\u001b[0m\u001b[0;34m\u001b[0m\u001b[0m\n\u001b[0;32m---> 10\u001b[0;31m \u001b[0mval_crf\u001b[0m \u001b[0;34m=\u001b[0m \u001b[0mget_crf_list\u001b[0m\u001b[0;34m(\u001b[0m\u001b[0mval_images\u001b[0m\u001b[0;34m)\u001b[0m\u001b[0;34m\u001b[0m\u001b[0m\n\u001b[0m\u001b[1;32m     11\u001b[0m \u001b[0mtime\u001b[0m \u001b[0;34m=\u001b[0m \u001b[0mdatetime\u001b[0m\u001b[0;34m.\u001b[0m\u001b[0mdatetime\u001b[0m\u001b[0;34m.\u001b[0m\u001b[0mnow\u001b[0m\u001b[0;34m(\u001b[0m\u001b[0;34m)\u001b[0m\u001b[0;34m.\u001b[0m\u001b[0mstrftime\u001b[0m\u001b[0;34m(\u001b[0m\u001b[0mTIMEFORMAT\u001b[0m\u001b[0;34m)\u001b[0m\u001b[0;34m\u001b[0m\u001b[0m\n\u001b[1;32m     12\u001b[0m \u001b[0mnp\u001b[0m\u001b[0;34m.\u001b[0m\u001b[0msave\u001b[0m\u001b[0;34m(\u001b[0m\u001b[0;34m'/home/mc16/result/val_crf_%s.npy'\u001b[0m\u001b[0;34m%\u001b[0m\u001b[0mtime\u001b[0m\u001b[0;34m,\u001b[0m \u001b[0mval_crf\u001b[0m\u001b[0;34m)\u001b[0m\u001b[0;34m\u001b[0m\u001b[0m\n",
      "\u001b[0;32m<ipython-input-55-59c806b3f194>\u001b[0m in \u001b[0;36mget_crf_list\u001b[0;34m(image_list)\u001b[0m\n\u001b[1;32m      3\u001b[0m     \u001b[0;32mfor\u001b[0m \u001b[0mimage\u001b[0m \u001b[0;32min\u001b[0m \u001b[0mtqdm\u001b[0m\u001b[0;34m(\u001b[0m\u001b[0mimage_list\u001b[0m\u001b[0;34m)\u001b[0m\u001b[0;34m:\u001b[0m\u001b[0;34m\u001b[0m\u001b[0m\n\u001b[1;32m      4\u001b[0m         \u001b[0mcrf\u001b[0m \u001b[0;34m=\u001b[0m \u001b[0mcrf_image\u001b[0m\u001b[0;34m(\u001b[0m\u001b[0mimage\u001b[0m\u001b[0;34m,\u001b[0m \u001b[0mmodel\u001b[0m\u001b[0;34m,\u001b[0m \u001b[0mgdims\u001b[0m\u001b[0;34m=\u001b[0m\u001b[0mCRF_GDIMS\u001b[0m\u001b[0;34m,\u001b[0m \u001b[0mbdims\u001b[0m\u001b[0;34m=\u001b[0m\u001b[0mCRF_BDIMS\u001b[0m\u001b[0;34m,\u001b[0m \u001b[0miteras\u001b[0m\u001b[0;34m=\u001b[0m\u001b[0mCRF_ITERAS\u001b[0m\u001b[0;34m)\u001b[0m\u001b[0;34m\u001b[0m\u001b[0m\n\u001b[0;32m----> 5\u001b[0;31m         \u001b[0mcut\u001b[0m \u001b[0;34m=\u001b[0m \u001b[0mcut_shit\u001b[0m\u001b[0;34m(\u001b[0m\u001b[0mcrf\u001b[0m\u001b[0;34m,\u001b[0m \u001b[0mCUT_WIDTH\u001b[0m\u001b[0;34m,\u001b[0m \u001b[0mCUT_FRAC\u001b[0m\u001b[0;34m)\u001b[0m\u001b[0;34m\u001b[0m\u001b[0m\n\u001b[0m\u001b[1;32m      6\u001b[0m         \u001b[0mcrf_list\u001b[0m\u001b[0;34m.\u001b[0m\u001b[0mappend\u001b[0m\u001b[0;34m(\u001b[0m\u001b[0mcut\u001b[0m\u001b[0;34m)\u001b[0m\u001b[0;34m\u001b[0m\u001b[0m\n\u001b[1;32m      7\u001b[0m     \u001b[0;32mreturn\u001b[0m \u001b[0mcrf_list\u001b[0m\u001b[0;34m\u001b[0m\u001b[0m\n",
      "\u001b[0;32m<ipython-input-49-be1e5a65ccf8>\u001b[0m in \u001b[0;36mcut_shit\u001b[0;34m(mask, num, frac)\u001b[0m\n\u001b[1;32m     24\u001b[0m     \u001b[0;32mfor\u001b[0m \u001b[0mj\u001b[0m \u001b[0;32min\u001b[0m \u001b[0mrange\u001b[0m\u001b[0;34m(\u001b[0m\u001b[0;36m224\u001b[0m\u001b[0;34m)\u001b[0m\u001b[0;34m:\u001b[0m\u001b[0;34m\u001b[0m\u001b[0m\n\u001b[1;32m     25\u001b[0m         \u001b[0;32mfor\u001b[0m \u001b[0mi\u001b[0m \u001b[0;32min\u001b[0m \u001b[0mrange\u001b[0m\u001b[0;34m(\u001b[0m\u001b[0;36m223\u001b[0m\u001b[0;34m-\u001b[0m\u001b[0mnum\u001b[0m\u001b[0;34m)\u001b[0m\u001b[0;34m:\u001b[0m\u001b[0;34m\u001b[0m\u001b[0m\n\u001b[0;32m---> 26\u001b[0;31m             \u001b[0;32mif\u001b[0m \u001b[0mnp\u001b[0m\u001b[0;34m.\u001b[0m\u001b[0msum\u001b[0m\u001b[0;34m(\u001b[0m\u001b[0mcut_mask\u001b[0m\u001b[0;34m[\u001b[0m\u001b[0mj\u001b[0m\u001b[0;34m,\u001b[0m \u001b[0mi\u001b[0m\u001b[0;34m:\u001b[0m\u001b[0mi\u001b[0m\u001b[0;34m+\u001b[0m\u001b[0mnum\u001b[0m\u001b[0;34m]\u001b[0m\u001b[0;34m)\u001b[0m \u001b[0;34m>\u001b[0m \u001b[0mnum\u001b[0m\u001b[0;34m*\u001b[0m\u001b[0mfrac\u001b[0m\u001b[0;34m:\u001b[0m\u001b[0;34m\u001b[0m\u001b[0m\n\u001b[0m\u001b[1;32m     27\u001b[0m                 \u001b[0mcut_L\u001b[0m \u001b[0;34m=\u001b[0m \u001b[0mi\u001b[0m \u001b[0;34m+\u001b[0m \u001b[0mint\u001b[0m\u001b[0;34m(\u001b[0m\u001b[0mnum\u001b[0m \u001b[0;34m*\u001b[0m \u001b[0;34m(\u001b[0m\u001b[0;36m1\u001b[0m \u001b[0;34m-\u001b[0m \u001b[0mfrac\u001b[0m \u001b[0;34m*\u001b[0m \u001b[0;36m0.75\u001b[0m\u001b[0;34m)\u001b[0m\u001b[0;34m)\u001b[0m\u001b[0;34m\u001b[0m\u001b[0m\n\u001b[1;32m     28\u001b[0m                 \u001b[0mcut_R\u001b[0m \u001b[0;34m=\u001b[0m \u001b[0mi\u001b[0m \u001b[0;34m+\u001b[0m \u001b[0mint\u001b[0m\u001b[0;34m(\u001b[0m\u001b[0mnum\u001b[0m \u001b[0;34m*\u001b[0m \u001b[0;34m(\u001b[0m\u001b[0;36m1\u001b[0m \u001b[0;34m-\u001b[0m \u001b[0mfrac\u001b[0m \u001b[0;34m*\u001b[0m \u001b[0;36m0.25\u001b[0m\u001b[0;34m)\u001b[0m\u001b[0;34m)\u001b[0m\u001b[0;34m\u001b[0m\u001b[0m\n",
      "\u001b[0;32m/home/mc16/.local/lib/python2.7/site-packages/numpy/core/fromnumeric.pyc\u001b[0m in \u001b[0;36msum\u001b[0;34m(a, axis, dtype, out, keepdims)\u001b[0m\n\u001b[1;32m   1880\u001b[0m             \u001b[0;32mreturn\u001b[0m \u001b[0msum\u001b[0m\u001b[0;34m(\u001b[0m\u001b[0maxis\u001b[0m\u001b[0;34m=\u001b[0m\u001b[0maxis\u001b[0m\u001b[0;34m,\u001b[0m \u001b[0mdtype\u001b[0m\u001b[0;34m=\u001b[0m\u001b[0mdtype\u001b[0m\u001b[0;34m,\u001b[0m \u001b[0mout\u001b[0m\u001b[0;34m=\u001b[0m\u001b[0mout\u001b[0m\u001b[0;34m,\u001b[0m \u001b[0;34m**\u001b[0m\u001b[0mkwargs\u001b[0m\u001b[0;34m)\u001b[0m\u001b[0;34m\u001b[0m\u001b[0m\n\u001b[1;32m   1881\u001b[0m     return _methods._sum(a, axis=axis, dtype=dtype,\n\u001b[0;32m-> 1882\u001b[0;31m                          out=out, **kwargs)\n\u001b[0m\u001b[1;32m   1883\u001b[0m \u001b[0;34m\u001b[0m\u001b[0m\n\u001b[1;32m   1884\u001b[0m \u001b[0;34m\u001b[0m\u001b[0m\n",
      "\u001b[0;32m/home/mc16/.local/lib/python2.7/site-packages/numpy/core/_methods.pyc\u001b[0m in \u001b[0;36m_sum\u001b[0;34m(a, axis, dtype, out, keepdims)\u001b[0m\n\u001b[1;32m     30\u001b[0m \u001b[0;34m\u001b[0m\u001b[0m\n\u001b[1;32m     31\u001b[0m \u001b[0;32mdef\u001b[0m \u001b[0m_sum\u001b[0m\u001b[0;34m(\u001b[0m\u001b[0ma\u001b[0m\u001b[0;34m,\u001b[0m \u001b[0maxis\u001b[0m\u001b[0;34m=\u001b[0m\u001b[0mNone\u001b[0m\u001b[0;34m,\u001b[0m \u001b[0mdtype\u001b[0m\u001b[0;34m=\u001b[0m\u001b[0mNone\u001b[0m\u001b[0;34m,\u001b[0m \u001b[0mout\u001b[0m\u001b[0;34m=\u001b[0m\u001b[0mNone\u001b[0m\u001b[0;34m,\u001b[0m \u001b[0mkeepdims\u001b[0m\u001b[0;34m=\u001b[0m\u001b[0mFalse\u001b[0m\u001b[0;34m)\u001b[0m\u001b[0;34m:\u001b[0m\u001b[0;34m\u001b[0m\u001b[0m\n\u001b[0;32m---> 32\u001b[0;31m     \u001b[0;32mreturn\u001b[0m \u001b[0mumr_sum\u001b[0m\u001b[0;34m(\u001b[0m\u001b[0ma\u001b[0m\u001b[0;34m,\u001b[0m \u001b[0maxis\u001b[0m\u001b[0;34m,\u001b[0m \u001b[0mdtype\u001b[0m\u001b[0;34m,\u001b[0m \u001b[0mout\u001b[0m\u001b[0;34m,\u001b[0m \u001b[0mkeepdims\u001b[0m\u001b[0;34m)\u001b[0m\u001b[0;34m\u001b[0m\u001b[0m\n\u001b[0m\u001b[1;32m     33\u001b[0m \u001b[0;34m\u001b[0m\u001b[0m\n\u001b[1;32m     34\u001b[0m \u001b[0;32mdef\u001b[0m \u001b[0m_prod\u001b[0m\u001b[0;34m(\u001b[0m\u001b[0ma\u001b[0m\u001b[0;34m,\u001b[0m \u001b[0maxis\u001b[0m\u001b[0;34m=\u001b[0m\u001b[0mNone\u001b[0m\u001b[0;34m,\u001b[0m \u001b[0mdtype\u001b[0m\u001b[0;34m=\u001b[0m\u001b[0mNone\u001b[0m\u001b[0;34m,\u001b[0m \u001b[0mout\u001b[0m\u001b[0;34m=\u001b[0m\u001b[0mNone\u001b[0m\u001b[0;34m,\u001b[0m \u001b[0mkeepdims\u001b[0m\u001b[0;34m=\u001b[0m\u001b[0mFalse\u001b[0m\u001b[0;34m)\u001b[0m\u001b[0;34m:\u001b[0m\u001b[0;34m\u001b[0m\u001b[0m\n",
      "\u001b[0;31mKeyboardInterrupt\u001b[0m: "
     ]
    }
   ],
   "source": [
    "def get_crf_list(image_list):\n",
    "    crf_list = []\n",
    "    for image in tqdm(image_list):\n",
    "        crf = crf_image(image, model, gdims=CRF_GDIMS, bdims=CRF_BDIMS, iteras=CRF_ITERAS)\n",
    "        cut = cut_shit(crf, CUT_WIDTH, CUT_FRAC)\n",
    "        crf_list.append(cut)\n",
    "    return crf_list\n",
    "\n",
    "TIMEFORMAT = \"%m-%d-%H:%M:%S\"\n",
    "val_crf = get_crf_list(val_images)\n",
    "time = datetime.datetime.now().strftime(TIMEFORMAT)\n",
    "np.save('/home/mc16/result/val_crf_%s.npy'%time, val_crf)"
   ]
  },
  {
   "cell_type": "code",
   "execution_count": 6,
   "metadata": {
    "collapsed": false
   },
   "outputs": [
    {
     "name": "stderr",
     "output_type": "stream",
     "text": [
      "100%|██████████| 2034/2034 [13:49<00:00,  2.45it/s]\n"
     ]
    }
   ],
   "source": [
    "test1_crf = get_crf_list(test1_images)\n",
    "time = datetime.datetime.now().strftime(TIMEFORMAT)\n",
    "np.save('/home/mc16/result/test1_crf_%s.npy'%time, test1_crf)"
   ]
  }
 ],
 "metadata": {
  "anaconda-cloud": {},
  "kernelspec": {
   "display_name": "Python [default]",
   "language": "python",
   "name": "python2"
  },
  "language_info": {
   "codemirror_mode": {
    "name": "ipython",
    "version": 2
   },
   "file_extension": ".py",
   "mimetype": "text/x-python",
   "name": "python",
   "nbconvert_exporter": "python",
   "pygments_lexer": "ipython2",
   "version": "2.7.12"
  }
 },
 "nbformat": 4,
 "nbformat_minor": 1
}
